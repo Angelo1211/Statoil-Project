{
 "cells": [
  {
   "cell_type": "markdown",
   "metadata": {},
   "source": [
    "# Visualizing Iceberg Data\n",
    "\n",
    "## Importing useful packages. "
   ]
  },
  {
   "cell_type": "code",
   "execution_count": 1,
   "metadata": {},
   "outputs": [],
   "source": [
    "import pandas as pd\n",
    "import matplotlib.pyplot as plt\n",
    "import numpy as np\n",
    "from sklearn import preprocessing\n",
    "%matplotlib inline"
   ]
  },
  {
   "cell_type": "markdown",
   "metadata": {},
   "source": [
    "## Loading training Data & Separating into icebergs and ships."
   ]
  },
  {
   "cell_type": "code",
   "execution_count": 2,
   "metadata": {},
   "outputs": [
    {
     "data": {
      "text/html": [
       "<div>\n",
       "<style scoped>\n",
       "    .dataframe tbody tr th:only-of-type {\n",
       "        vertical-align: middle;\n",
       "    }\n",
       "\n",
       "    .dataframe tbody tr th {\n",
       "        vertical-align: top;\n",
       "    }\n",
       "\n",
       "    .dataframe thead th {\n",
       "        text-align: right;\n",
       "    }\n",
       "</style>\n",
       "<table border=\"1\" class=\"dataframe\">\n",
       "  <thead>\n",
       "    <tr style=\"text-align: right;\">\n",
       "      <th></th>\n",
       "      <th>band_1</th>\n",
       "      <th>band_2</th>\n",
       "      <th>id</th>\n",
       "      <th>inc_angle</th>\n",
       "      <th>is_iceberg</th>\n",
       "    </tr>\n",
       "  </thead>\n",
       "  <tbody>\n",
       "    <tr>\n",
       "      <th>0</th>\n",
       "      <td>[-27.878360999999998, -27.15416, -28.668615, -...</td>\n",
       "      <td>[-27.154118, -29.537888, -31.0306, -32.190483,...</td>\n",
       "      <td>dfd5f913</td>\n",
       "      <td>43.9239</td>\n",
       "      <td>0</td>\n",
       "    </tr>\n",
       "    <tr>\n",
       "      <th>1</th>\n",
       "      <td>[-12.242375, -14.920304999999999, -14.920363, ...</td>\n",
       "      <td>[-31.506321, -27.984554, -26.645678, -23.76760...</td>\n",
       "      <td>e25388fd</td>\n",
       "      <td>38.1562</td>\n",
       "      <td>0</td>\n",
       "    </tr>\n",
       "    <tr>\n",
       "      <th>2</th>\n",
       "      <td>[-24.603676, -24.603714, -24.871029, -23.15277...</td>\n",
       "      <td>[-24.870956, -24.092632, -20.653963, -19.41104...</td>\n",
       "      <td>58b2aaa0</td>\n",
       "      <td>45.2859</td>\n",
       "      <td>1</td>\n",
       "    </tr>\n",
       "    <tr>\n",
       "      <th>3</th>\n",
       "      <td>[-22.454607, -23.082819, -23.998013, -23.99805...</td>\n",
       "      <td>[-27.889421, -27.519794, -27.165262, -29.10350...</td>\n",
       "      <td>4cfc3a18</td>\n",
       "      <td>43.8306</td>\n",
       "      <td>0</td>\n",
       "    </tr>\n",
       "    <tr>\n",
       "      <th>4</th>\n",
       "      <td>[-26.006956, -23.164886, -23.164886, -26.89116...</td>\n",
       "      <td>[-27.206915, -30.259186, -30.259186, -23.16495...</td>\n",
       "      <td>271f93f4</td>\n",
       "      <td>35.6256</td>\n",
       "      <td>0</td>\n",
       "    </tr>\n",
       "  </tbody>\n",
       "</table>\n",
       "</div>"
      ],
      "text/plain": [
       "                                              band_1  \\\n",
       "0  [-27.878360999999998, -27.15416, -28.668615, -...   \n",
       "1  [-12.242375, -14.920304999999999, -14.920363, ...   \n",
       "2  [-24.603676, -24.603714, -24.871029, -23.15277...   \n",
       "3  [-22.454607, -23.082819, -23.998013, -23.99805...   \n",
       "4  [-26.006956, -23.164886, -23.164886, -26.89116...   \n",
       "\n",
       "                                              band_2        id inc_angle  \\\n",
       "0  [-27.154118, -29.537888, -31.0306, -32.190483,...  dfd5f913   43.9239   \n",
       "1  [-31.506321, -27.984554, -26.645678, -23.76760...  e25388fd   38.1562   \n",
       "2  [-24.870956, -24.092632, -20.653963, -19.41104...  58b2aaa0   45.2859   \n",
       "3  [-27.889421, -27.519794, -27.165262, -29.10350...  4cfc3a18   43.8306   \n",
       "4  [-27.206915, -30.259186, -30.259186, -23.16495...  271f93f4   35.6256   \n",
       "\n",
       "   is_iceberg  \n",
       "0           0  \n",
       "1           0  \n",
       "2           1  \n",
       "3           0  \n",
       "4           0  "
      ]
     },
     "execution_count": 2,
     "metadata": {},
     "output_type": "execute_result"
    }
   ],
   "source": [
    "train = pd.read_json('./TrainData/data/processed/train.json')\n",
    "train.head()"
   ]
  },
  {
   "cell_type": "code",
   "execution_count": 3,
   "metadata": {},
   "outputs": [],
   "source": [
    "icebergs = train[train.is_iceberg == 1].sample(n=9, random_state=123)\n",
    "ships = train[train.is_iceberg==0].sample(n=9, random_state=456)"
   ]
  },
  {
   "cell_type": "markdown",
   "metadata": {},
   "source": [
    "## Raw image from any id location"
   ]
  },
  {
   "cell_type": "code",
   "execution_count": 4,
   "metadata": {},
   "outputs": [
    {
     "name": "stdout",
     "output_type": "stream",
     "text": [
      "0    0\n",
      "1    0\n",
      "2    1\n",
      "3    0\n",
      "4    0\n",
      "5    1\n",
      "6    1\n",
      "7    0\n",
      "8    0\n",
      "9    0\n",
      "Name: is_iceberg, dtype: int64\n"
     ]
    }
   ],
   "source": [
    "img_id = 0\n",
    "print(train['is_iceberg'][0:10])"
   ]
  },
  {
   "cell_type": "code",
   "execution_count": 5,
   "metadata": {},
   "outputs": [
    {
     "ename": "NameError",
     "evalue": "name 'imd_id' is not defined",
     "output_type": "error",
     "traceback": [
      "\u001b[0;31m---------------------------------------------------------------------------\u001b[0m",
      "\u001b[0;31mNameError\u001b[0m                                 Traceback (most recent call last)",
      "\u001b[0;32m<ipython-input-5-51e9cee46ccb>\u001b[0m in \u001b[0;36m<module>\u001b[0;34m()\u001b[0m\n\u001b[1;32m      1\u001b[0m \u001b[0mfig\u001b[0m \u001b[0;34m=\u001b[0m \u001b[0mplt\u001b[0m\u001b[0;34m.\u001b[0m\u001b[0mfigure\u001b[0m\u001b[0;34m(\u001b[0m\u001b[0;36m1\u001b[0m\u001b[0;34m,\u001b[0m\u001b[0mfigsize\u001b[0m\u001b[0;34m=\u001b[0m\u001b[0;34m(\u001b[0m\u001b[0;36m12\u001b[0m\u001b[0;34m,\u001b[0m\u001b[0;36m12\u001b[0m\u001b[0;34m)\u001b[0m\u001b[0;34m)\u001b[0m\u001b[0;34m\u001b[0m\u001b[0m\n\u001b[1;32m      2\u001b[0m \u001b[0max\u001b[0m \u001b[0;34m=\u001b[0m \u001b[0mfig\u001b[0m\u001b[0;34m.\u001b[0m\u001b[0madd_subplot\u001b[0m\u001b[0;34m(\u001b[0m\u001b[0;36m1\u001b[0m\u001b[0;34m,\u001b[0m\u001b[0;36m1\u001b[0m\u001b[0;34m,\u001b[0m\u001b[0;36m1\u001b[0m\u001b[0;34m)\u001b[0m\u001b[0;34m\u001b[0m\u001b[0m\n\u001b[0;32m----> 3\u001b[0;31m \u001b[0marr\u001b[0m \u001b[0;34m=\u001b[0m \u001b[0mnp\u001b[0m\u001b[0;34m.\u001b[0m\u001b[0mreshape\u001b[0m\u001b[0;34m(\u001b[0m\u001b[0mnp\u001b[0m\u001b[0;34m.\u001b[0m\u001b[0marray\u001b[0m\u001b[0;34m(\u001b[0m\u001b[0mtrain\u001b[0m\u001b[0;34m.\u001b[0m\u001b[0miloc\u001b[0m\u001b[0;34m[\u001b[0m\u001b[0mimd_id\u001b[0m\u001b[0;34m,\u001b[0m\u001b[0;36m0\u001b[0m\u001b[0;34m]\u001b[0m\u001b[0;34m)\u001b[0m\u001b[0;34m,\u001b[0m\u001b[0;34m(\u001b[0m\u001b[0;36m75\u001b[0m\u001b[0;34m,\u001b[0m\u001b[0;36m75\u001b[0m\u001b[0;34m)\u001b[0m\u001b[0;34m)\u001b[0m\u001b[0;34m\u001b[0m\u001b[0m\n\u001b[0m\u001b[1;32m      4\u001b[0m \u001b[0max\u001b[0m\u001b[0;34m.\u001b[0m\u001b[0mimshow\u001b[0m\u001b[0;34m(\u001b[0m\u001b[0marr\u001b[0m\u001b[0;34m,\u001b[0m \u001b[0mcmap\u001b[0m\u001b[0;34m=\u001b[0m\u001b[0;34m'inferno'\u001b[0m\u001b[0;34m)\u001b[0m\u001b[0;34m\u001b[0m\u001b[0m\n\u001b[1;32m      5\u001b[0m \u001b[0mplt\u001b[0m\u001b[0;34m.\u001b[0m\u001b[0mshow\u001b[0m\u001b[0;34m(\u001b[0m\u001b[0;34m)\u001b[0m\u001b[0;34m\u001b[0m\u001b[0m\n",
      "\u001b[0;31mNameError\u001b[0m: name 'imd_id' is not defined"
     ]
    },
    {
     "data": {
      "image/png": "[encoded data removed]",
      "text/plain": [
       "<matplotlib.figure.Figure at 0x7f9062d6aeb8>"
      ]
     },
     "metadata": {},
     "output_type": "display_data"
    }
   ],
   "source": [
    "fig = plt.figure(1,figsize=(12,12))\n",
    "ax = fig.add_subplot(1,1,1)\n",
    "arr = np.reshape(np.array(train.iloc[imd_id,0]),(75,75))\n",
    "ax.imshow(arr, cmap='inferno')\n",
    "plt.show()"
   ]
  },
  {
   "cell_type": "markdown",
   "metadata": {},
   "source": [
    "## Raw Images of Icebers in band 1"
   ]
  },
  {
   "cell_type": "code",
   "execution_count": null,
   "metadata": {
    "scrolled": false
   },
   "outputs": [],
   "source": [
    "#Plotting 1st band\n",
    "fig = plt.figure(1,figsize=(15,15))\n",
    "for i in range(9):\n",
    "    ax = fig.add_subplot(3,3,i+1)\n",
    "    arr = np.reshape(np.array(icebergs.iloc[i,0]),(75,75))\n",
    "    ax.imshow(arr, cmap='inferno')\n",
    "plt.show()"
   ]
  },
  {
   "cell_type": "markdown",
   "metadata": {},
   "source": [
    "## Showing ships in band 1.\n"
   ]
  },
  {
   "cell_type": "code",
   "execution_count": null,
   "metadata": {
    "scrolled": false
   },
   "outputs": [],
   "source": [
    "#Plotting 1st band\n",
    "fig = plt.figure(1,figsize=(15,15))\n",
    "for i in range(9):\n",
    "    ax = fig.add_subplot(3,3,i+1)\n",
    "    arr = np.reshape(np.array(ships.iloc[i,0]),(75,75))\n",
    "    ax.imshow(arr, cmap='inferno')\n",
    "plt.show()"
   ]
  },
  {
   "cell_type": "markdown",
   "metadata": {},
   "source": [
    "## Showing ships vs icebergs side to side on each band w/ rgb implementation."
   ]
  },
  {
   "cell_type": "code",
   "execution_count": null,
   "metadata": {},
   "outputs": [],
   "source": [
    "scaler = preprocessing.MinMaxScaler()\n",
    "fig = plt.figure(1,figsize=(18,16))\n",
    "ex = 0\n",
    "#Ships\n",
    "ax = fig.add_subplot(3,3,1)\n",
    "arr = np.reshape(np.array(ships.iloc[ex,0]),(75,75))\n",
    "ax.set_title('Ship Band 1')\n",
    "ax.imshow(arr, cmap='inferno')\n",
    "ax = fig.add_subplot(3,3,2)\n",
    "arr = np.reshape(np.array(ships.iloc[ex,1]),(75,75))\n",
    "ax.set_title('Ship Band 2')\n",
    "ax.imshow(arr, cmap='inferno')\n",
    "\n",
    "#Ship RGB\n",
    "r = np.array(ships.iloc[ex,0])\n",
    "g = np.array(ships.iloc[ex,1])\n",
    "b = [r[x]/g[x] for x in range(len(r))]\n",
    "rgb = np.array([[r[x],g[x],b[x]]for x in range(len(r))])\n",
    "rgb = scaler.fit_transform(rgb)\n",
    "rgb = np.reshape(rgb,(75,75,3))\n",
    "ax = fig.add_subplot(3,3,3)\n",
    "ax.set_title('Ship Color Composite')\n",
    "ax.imshow(rgb)\n",
    "\n",
    "#Icebergs\n",
    "ax = fig.add_subplot(3,3,4)\n",
    "arr = np.reshape(np.array(icebergs.iloc[ex,0]),(75,75))\n",
    "ax.set_title('Iceberg Band 1')\n",
    "ax.imshow(arr, cmap='inferno')\n",
    "ax = fig.add_subplot(3,3,5)\n",
    "arr = np.reshape(np.array(icebergs.iloc[ex,1]),(75,75))\n",
    "ax.set_title('Iceberg Band 2')\n",
    "ax.imshow(arr, cmap='inferno')\n",
    "\n",
    "#Icebergs RGB\n",
    "r = np.array(icebergs.iloc[ex,0])\n",
    "g = np.array(icebergs.iloc[ex,1])\n",
    "b = [r[x]/g[x] for x in range(len(r))]\n",
    "rgb = np.array([[r[x],g[x],b[x]]for x in range(len(r))])\n",
    "rgb = scaler.fit_transform(rgb)\n",
    "rgb = np.reshape(rgb,(75,75,3))\n",
    "ax = fig.add_subplot(3,3,6)\n",
    "ax.set_title('Iceberg Color Composite')\n",
    "ax.imshow(rgb)\n",
    "plt.show()"
   ]
  },
  {
   "cell_type": "markdown",
   "metadata": {},
   "source": [
    "## RGB with HV assigned to red and gree and HH to blue"
   ]
  },
  {
   "cell_type": "code",
   "execution_count": null,
   "metadata": {},
   "outputs": [],
   "source": [
    "scaler = preprocessing.MinMaxScaler()\n",
    "fig = plt.figure(1,figsize=(18,16))\n",
    "ex = 0\n",
    "#Ships\n",
    "ax = fig.add_subplot(3,3,1)\n",
    "arr = np.reshape(np.array(ships.iloc[ex,0]),(75,75))\n",
    "ax.set_title('Ship Band 1')\n",
    "ax.imshow(arr, cmap='inferno')\n",
    "ax = fig.add_subplot(3,3,2)\n",
    "arr = np.reshape(np.array(ships.iloc[ex,1]),(75,75))\n",
    "ax.set_title('Ship Band 2')\n",
    "ax.imshow(arr, cmap='inferno')\n",
    "\n",
    "#Ship RGB\n",
    "r = np.array(ships.iloc[ex,0])\n",
    "g = np.array(ships.iloc[ex,0])\n",
    "b = np.array(ships.iloc[ex,1])\n",
    "rgb = np.array([[r[x],g[x],b[x]]for x in range(len(r))])\n",
    "rgb = scaler.fit_transform(rgb)\n",
    "rgb = np.reshape(rgb,(75,75,3))\n",
    "ax = fig.add_subplot(3,3,3)\n",
    "ax.set_title('Ship Color Composite')\n",
    "ax.imshow(rgb)\n",
    "\n",
    "#Icebergs\n",
    "ax = fig.add_subplot(3,3,4)\n",
    "arr = np.reshape(np.array(icebergs.iloc[ex,0]),(75,75))\n",
    "ax.set_title('Iceberg Band 1')\n",
    "ax.imshow(arr, cmap='inferno')\n",
    "ax = fig.add_subplot(3,3,5)\n",
    "arr = np.reshape(np.array(icebergs.iloc[ex,1]),(75,75))\n",
    "ax.set_title('Iceberg Band 2')\n",
    "ax.imshow(arr, cmap='inferno')\n",
    "\n",
    "#Icebergs RGB\n",
    "r = np.array(icebergs.iloc[ex,0])\n",
    "g = np.array(icebergs.iloc[ex,0])\n",
    "b = np.array(icebergs.iloc[ex,1])\n",
    "rgb = np.array([[r[x],g[x],b[x]]for x in range(len(r))])\n",
    "rgb = scaler.fit_transform(rgb)\n",
    "rgb = np.reshape(rgb,(75,75,3))\n",
    "ax = fig.add_subplot(3,3,6)\n",
    "ax.set_title('Iceberg Color Composite')\n",
    "ax.imshow(rgb)\n",
    "plt.show()\n",
    "print(ships.iloc[ex,3], icebergs.iloc[ex,3])"
   ]
  },
  {
   "cell_type": "code",
   "execution_count": null,
   "metadata": {},
   "outputs": [],
   "source": []
  },
  {
   "cell_type": "code",
   "execution_count": null,
   "metadata": {},
   "outputs": [],
   "source": []
  }
 ],
 "metadata": {
  "kernelspec": {
   "display_name": "Python 3",
   "language": "python",
   "name": "python3"
  },
  "language_info": {
   "codemirror_mode": {
    "name": "ipython",
    "version": 3
   },
   "file_extension": ".py",
   "mimetype": "text/x-python",
   "name": "python",
   "nbconvert_exporter": "python",
   "pygments_lexer": "ipython3",
   "version": "3.5.2"
  }
 },
 "nbformat": 4,
 "nbformat_minor": 2
}
