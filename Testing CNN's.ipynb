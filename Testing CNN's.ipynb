{
 "cells": [
  {
   "cell_type": "code",
   "execution_count": 1,
   "metadata": {},
   "outputs": [
    {
     "name": "stderr",
     "output_type": "stream",
     "text": [
      "Using TensorFlow backend.\n"
     ]
    }
   ],
   "source": [
    "import numpy as np\n",
    "import pandas as pd\n",
    "import matplotlib.pyplot as plt\n",
    "import keras\n",
    "import h5py\n",
    "from keras import regularizers\n",
    "from keras.layers import Dense, Flatten, Dropout\n",
    "from keras.layers import Conv2D, MaxPooling2D\n",
    "from keras.models import Sequential\n",
    "from keras.callbacks import ModelCheckpoint\n",
    "from keras.utils import normalize\n",
    "from keras.wrappers.scikit_learn import KerasClassifier\n",
    "from sklearn.model_selection import cross_val_score\n",
    "from sklearn.preprocessing import LabelEncoder\n",
    "from sklearn.model_selection import StratifiedKFold\n",
    "from sklearn.preprocessing import StandardScaler\n",
    "from sklearn.pipeline import Pipeline\n",
    "from sklearn.metrics import mean_squared_error\n",
    "%matplotlib inline"
   ]
  },
  {
   "cell_type": "code",
   "execution_count": 2,
   "metadata": {},
   "outputs": [],
   "source": [
    "batch_size = 10\n",
    "num_classes = 1\n",
    "epochs = 50\n",
    "channels = 2"
   ]
  },
  {
   "cell_type": "code",
   "execution_count": 3,
   "metadata": {},
   "outputs": [],
   "source": [
    "#image input dimensions\n",
    "img_x, img_y = 75,75"
   ]
  },
  {
   "cell_type": "code",
   "execution_count": 4,
   "metadata": {},
   "outputs": [],
   "source": [
    "#load train  data\n",
    "train = pd.read_json('./TrainData/data/processed/train.json')\n",
    "bands = ['band_1','band_2']\n",
    "x_total = np.empty([1604,0])\n",
    "for band in bands:\n",
    "    x_temp = np.zeros((1604,5625))\n",
    "    for x in range(1604):\n",
    "        x_temp[x] += train[band][x]\n",
    "    #x_temp = keras.utils.normalize(x_temp)\n",
    "    x_total = np.concatenate((x_total,x_temp),axis=1)\n",
    "y_total = np.array(train['is_iceberg']) \n",
    "y_total = y_total.reshape(1604,1)\n",
    "x_train = x_total\n",
    "y_train = y_total"
   ]
  },
  {
   "cell_type": "code",
   "execution_count": 5,
   "metadata": {},
   "outputs": [],
   "source": [
    "#Splitting into test data\n",
    "#x_train, x_test =x_total[:1444,:], x_total[1444:,:]\n",
    "#y_train, y_test =y_total[:1444,:], y_total[1444:,:]"
   ]
  },
  {
   "cell_type": "code",
   "execution_count": 6,
   "metadata": {},
   "outputs": [],
   "source": [
    "# reshape the data into a 4D tensor - (sample_number, x_img_size, y_img_size, num_channels)\n",
    "# two channels\n",
    "x_train = x_train.reshape(x_train.shape[0], img_x, img_y, channels)\n",
    "#x_test = x_test.reshape(x_test.shape[0], img_x, img_y, channels)\n",
    "input_shape = (img_x, img_y, channels)"
   ]
  },
  {
   "cell_type": "code",
   "execution_count": 13,
   "metadata": {},
   "outputs": [],
   "source": [
    "model = Sequential()\n",
    "model.add(Conv2D(64, kernel_size=(3, 3),\n",
    "                 activation='relu',\n",
    "                 input_shape=input_shape))\n",
    "model.add(MaxPooling2D(pool_size=(3, 3),strides=(2, 2)))\n",
    "model.add(Dropout(0.2))\n",
    "          \n",
    "model.add(Conv2D(128, kernel_size=(3, 3),\n",
    "                 activation='relu',\n",
    "                 input_shape=input_shape))\n",
    "model.add(MaxPooling2D(pool_size=(2, 2)))\n",
    "model.add(Dropout(0.2))\n",
    "\n",
    "model.add(Conv2D(128, kernel_size=(3, 3),\n",
    "                 activation='relu',\n",
    "                 input_shape=input_shape))\n",
    "model.add(MaxPooling2D(pool_size=(2, 2)))\n",
    "model.add(Dropout(0.2))\n",
    "\n",
    "             \n",
    "model.add(Conv2D(64, kernel_size=(3, 3),\n",
    "                 activation='relu',\n",
    "                 input_shape=input_shape))\n",
    "model.add(MaxPooling2D(pool_size=(2, 2)))\n",
    "model.add(Dropout(0.2))\n",
    "          \n",
    "model.add(Flatten())\n",
    "\n",
    "model.add(Dense(512, activation='relu'))\n",
    "model.add(Dropout(0.2))\n",
    "          \n",
    "model.add(Dense(256, activation='relu'))\n",
    "model.add(Dropout(0.2))\n",
    "\n",
    "model.add(Dense(num_classes, activation='sigmoid'))\n",
    "opt = keras.optimizers.Adam()\n",
    "\n",
    "history = keras.callbacks.History()"
   ]
  },
  {
   "cell_type": "code",
   "execution_count": 14,
   "metadata": {},
   "outputs": [],
   "source": [
    "def getBestModel():\n",
    "    model.compile(loss=keras.losses.binary_crossentropy,\n",
    "              optimizer=opt,\n",
    "              metrics=['accuracy'])\n",
    "    model.summary()\n",
    "    best_weights_filepath = './best_weights.hdf5'\n",
    "    earlyStopping=keras.callbacks.EarlyStopping(monitor='val_loss', patience=12, verbose=1, mode='auto')\n",
    "    saveBestModel = keras.callbacks.ModelCheckpoint(best_weights_filepath, monitor='val_loss', verbose=1, save_best_only=True, mode='auto')\n",
    "\n",
    "    # train model\n",
    "    history = model.fit(x_train, y_train, batch_size=batch_size, nb_epoch=epochs,\n",
    "              verbose=1, validation_split= 0.10, callbacks=[earlyStopping, saveBestModel])\n",
    "\n",
    "    #reload best weights\n",
    "    model.load_weights(best_weights_filepath)\n",
    "    return model, history"
   ]
  },
  {
   "cell_type": "code",
   "execution_count": 15,
   "metadata": {},
   "outputs": [
    {
     "name": "stdout",
     "output_type": "stream",
     "text": [
      "_________________________________________________________________\n",
      "Layer (type)                 Output Shape              Param #   \n",
      "=================================================================\n",
      "conv2d_5 (Conv2D)            (None, 73, 73, 64)        1216      \n",
      "_________________________________________________________________\n",
      "max_pooling2d_5 (MaxPooling2 (None, 36, 36, 64)        0         \n",
      "_________________________________________________________________\n",
      "dropout_7 (Dropout)          (None, 36, 36, 64)        0         \n",
      "_________________________________________________________________\n",
      "conv2d_6 (Conv2D)            (None, 34, 34, 128)       73856     \n",
      "_________________________________________________________________\n",
      "max_pooling2d_6 (MaxPooling2 (None, 17, 17, 128)       0         \n",
      "_________________________________________________________________\n",
      "dropout_8 (Dropout)          (None, 17, 17, 128)       0         \n",
      "_________________________________________________________________\n",
      "conv2d_7 (Conv2D)            (None, 15, 15, 128)       147584    \n",
      "_________________________________________________________________\n",
      "max_pooling2d_7 (MaxPooling2 (None, 7, 7, 128)         0         \n",
      "_________________________________________________________________\n",
      "dropout_9 (Dropout)          (None, 7, 7, 128)         0         \n",
      "_________________________________________________________________\n",
      "conv2d_8 (Conv2D)            (None, 5, 5, 64)          73792     \n",
      "_________________________________________________________________\n",
      "max_pooling2d_8 (MaxPooling2 (None, 2, 2, 64)          0         \n",
      "_________________________________________________________________\n",
      "dropout_10 (Dropout)         (None, 2, 2, 64)          0         \n",
      "_________________________________________________________________\n",
      "flatten_2 (Flatten)          (None, 256)               0         \n",
      "_________________________________________________________________\n",
      "dense_4 (Dense)              (None, 512)               131584    \n",
      "_________________________________________________________________\n",
      "dropout_11 (Dropout)         (None, 512)               0         \n",
      "_________________________________________________________________\n",
      "dense_5 (Dense)              (None, 256)               131328    \n",
      "_________________________________________________________________\n",
      "dropout_12 (Dropout)         (None, 256)               0         \n",
      "_________________________________________________________________\n",
      "dense_6 (Dense)              (None, 1)                 257       \n",
      "=================================================================\n",
      "Total params: 559,617\n",
      "Trainable params: 559,617\n",
      "Non-trainable params: 0\n",
      "_________________________________________________________________\n"
     ]
    },
    {
     "name": "stderr",
     "output_type": "stream",
     "text": [
      "/home/angel/tensorflow/lib/python3.5/site-packages/keras/models.py:874: UserWarning: The `nb_epoch` argument in `fit` has been renamed `epochs`.\n",
      "  warnings.warn('The `nb_epoch` argument in `fit` '\n"
     ]
    },
    {
     "name": "stdout",
     "output_type": "stream",
     "text": [
      "Train on 1443 samples, validate on 161 samples\n",
      "Epoch 1/50\n",
      "1440/1443 [============================>.] - ETA: 0s - loss: 0.7293 - acc: 0.6278Epoch 00001: val_loss improved from inf to 0.60053, saving model to ./best_weights.hdf5\n",
      "1443/1443 [==============================] - 22s 15ms/step - loss: 0.7286 - acc: 0.6286 - val_loss: 0.6005 - val_acc: 0.4410\n",
      "Epoch 2/50\n",
      "1440/1443 [============================>.] - ETA: 0s - loss: 0.5593 - acc: 0.6979Epoch 00002: val_loss did not improve\n",
      "1443/1443 [==============================] - 23s 16ms/step - loss: 0.5591 - acc: 0.6979 - val_loss: 0.6260 - val_acc: 0.4286\n",
      "Epoch 3/50\n",
      "1440/1443 [============================>.] - ETA: 0s - loss: 0.5355 - acc: 0.7146Epoch 00003: val_loss did not improve\n",
      "1443/1443 [==============================] - 21s 15ms/step - loss: 0.5360 - acc: 0.7138 - val_loss: 0.6618 - val_acc: 0.4286\n",
      "Epoch 4/50\n",
      "1440/1443 [============================>.] - ETA: 0s - loss: 0.5160 - acc: 0.7278Epoch 00004: val_loss did not improve\n",
      "1443/1443 [==============================] - 23s 16ms/step - loss: 0.5159 - acc: 0.7277 - val_loss: 0.7800 - val_acc: 0.5217\n",
      "Epoch 5/50\n",
      "1440/1443 [============================>.] - ETA: 0s - loss: 0.5178 - acc: 0.7396Epoch 00005: val_loss did not improve\n",
      "1443/1443 [==============================] - 23s 16ms/step - loss: 0.5181 - acc: 0.7394 - val_loss: 0.6886 - val_acc: 0.4783\n",
      "Epoch 6/50\n",
      "1440/1443 [============================>.] - ETA: 0s - loss: 0.4964 - acc: 0.7514Epoch 00006: val_loss improved from 0.60053 to 0.47960, saving model to ./best_weights.hdf5\n",
      "1443/1443 [==============================] - 22s 15ms/step - loss: 0.4962 - acc: 0.7512 - val_loss: 0.4796 - val_acc: 0.7578\n",
      "Epoch 7/50\n",
      "1440/1443 [============================>.] - ETA: 0s - loss: 0.4741 - acc: 0.7611Epoch 00007: val_loss did not improve\n",
      "1443/1443 [==============================] - 23s 16ms/step - loss: 0.4739 - acc: 0.7609 - val_loss: 0.5727 - val_acc: 0.5528\n",
      "Epoch 8/50\n",
      "1440/1443 [============================>.] - ETA: 0s - loss: 0.4324 - acc: 0.7889Epoch 00008: val_loss did not improve\n",
      "1443/1443 [==============================] - 23s 16ms/step - loss: 0.4325 - acc: 0.7886 - val_loss: 0.5140 - val_acc: 0.6584\n",
      "Epoch 9/50\n",
      "1440/1443 [============================>.] - ETA: 0s - loss: 0.4029 - acc: 0.8174Epoch 00009: val_loss did not improve\n",
      "1443/1443 [==============================] - 23s 16ms/step - loss: 0.4026 - acc: 0.8177 - val_loss: 0.5555 - val_acc: 0.6273\n",
      "Epoch 10/50\n",
      "1440/1443 [============================>.] - ETA: 0s - loss: 0.3771 - acc: 0.8194Epoch 00010: val_loss did not improve\n",
      "1443/1443 [==============================] - 21s 15ms/step - loss: 0.3790 - acc: 0.8184 - val_loss: 0.5282 - val_acc: 0.6460\n",
      "Epoch 11/50\n",
      "1440/1443 [============================>.] - ETA: 0s - loss: 0.3913 - acc: 0.8132Epoch 00011: val_loss did not improve\n",
      "1443/1443 [==============================] - 22s 15ms/step - loss: 0.3924 - acc: 0.8122 - val_loss: 0.5183 - val_acc: 0.6211\n",
      "Epoch 12/50\n",
      "1440/1443 [============================>.] - ETA: 0s - loss: 0.3891 - acc: 0.8347Epoch 00012: val_loss did not improve\n",
      "1443/1443 [==============================] - 23s 16ms/step - loss: 0.3887 - acc: 0.8351 - val_loss: 0.5022 - val_acc: 0.6770\n",
      "Epoch 13/50\n",
      "1440/1443 [============================>.] - ETA: 0s - loss: 0.3232 - acc: 0.8465Epoch 00013: val_loss did not improve\n",
      "1443/1443 [==============================] - 23s 16ms/step - loss: 0.3242 - acc: 0.8462 - val_loss: 0.7955 - val_acc: 0.5839\n",
      "Epoch 14/50\n",
      "1440/1443 [============================>.] - ETA: 0s - loss: 0.3698 - acc: 0.8306Epoch 00014: val_loss improved from 0.47960 to 0.38444, saving model to ./best_weights.hdf5\n",
      "1443/1443 [==============================] - 21s 15ms/step - loss: 0.3697 - acc: 0.8302 - val_loss: 0.3844 - val_acc: 0.8509\n",
      "Epoch 15/50\n",
      "1440/1443 [============================>.] - ETA: 0s - loss: 0.3301 - acc: 0.8403Epoch 00015: val_loss improved from 0.38444 to 0.37192, saving model to ./best_weights.hdf5\n",
      "1443/1443 [==============================] - 24s 16ms/step - loss: 0.3303 - acc: 0.8399 - val_loss: 0.3719 - val_acc: 0.8199\n",
      "Epoch 16/50\n",
      "1440/1443 [============================>.] - ETA: 0s - loss: 0.3088 - acc: 0.8569Epoch 00016: val_loss did not improve\n",
      "1443/1443 [==============================] - 23s 16ms/step - loss: 0.3098 - acc: 0.8565 - val_loss: 0.5014 - val_acc: 0.6460\n",
      "Epoch 17/50\n",
      "1440/1443 [============================>.] - ETA: 0s - loss: 0.3287 - acc: 0.8417Epoch 00017: val_loss did not improve\n",
      "1443/1443 [==============================] - 22s 15ms/step - loss: 0.3280 - acc: 0.8420 - val_loss: 0.4105 - val_acc: 0.7702\n",
      "Epoch 18/50\n",
      "1440/1443 [============================>.] - ETA: 0s - loss: 0.3129 - acc: 0.8514Epoch 00018: val_loss did not improve\n",
      "1443/1443 [==============================] - 21s 14ms/step - loss: 0.3132 - acc: 0.8510 - val_loss: 0.3908 - val_acc: 0.8137\n",
      "Epoch 19/50\n",
      "1440/1443 [============================>.] - ETA: 0s - loss: 0.2983 - acc: 0.8618Epoch 00019: val_loss improved from 0.37192 to 0.30544, saving model to ./best_weights.hdf5\n",
      "1443/1443 [==============================] - 21s 15ms/step - loss: 0.2984 - acc: 0.8614 - val_loss: 0.3054 - val_acc: 0.8323\n",
      "Epoch 20/50\n",
      "1440/1443 [============================>.] - ETA: 0s - loss: 0.2875 - acc: 0.8486Epoch 00020: val_loss did not improve\n",
      "1443/1443 [==============================] - 21s 15ms/step - loss: 0.2902 - acc: 0.8475 - val_loss: 0.3366 - val_acc: 0.8447\n",
      "Epoch 21/50\n",
      "1440/1443 [============================>.] - ETA: 0s - loss: 0.3222 - acc: 0.8528Epoch 00021: val_loss did not improve\n",
      "1443/1443 [==============================] - 21s 15ms/step - loss: 0.3231 - acc: 0.8524 - val_loss: 0.5966 - val_acc: 0.6398\n",
      "Epoch 22/50\n",
      "1440/1443 [============================>.] - ETA: 0s - loss: 0.2841 - acc: 0.8729Epoch 00022: val_loss did not improve\n",
      "1443/1443 [==============================] - 21s 15ms/step - loss: 0.2835 - acc: 0.8732 - val_loss: 0.4132 - val_acc: 0.8075\n",
      "Epoch 23/50\n",
      "1440/1443 [============================>.] - ETA: 0s - loss: 0.2792 - acc: 0.8715Epoch 00023: val_loss did not improve\n",
      "1443/1443 [==============================] - 22s 15ms/step - loss: 0.2787 - acc: 0.8718 - val_loss: 0.7863 - val_acc: 0.5528\n",
      "Epoch 24/50\n",
      "1440/1443 [============================>.] - ETA: 0s - loss: 0.2777 - acc: 0.8812Epoch 00024: val_loss did not improve\n",
      "1443/1443 [==============================] - 21s 15ms/step - loss: 0.2774 - acc: 0.8815 - val_loss: 0.4865 - val_acc: 0.6770\n",
      "Epoch 25/50\n",
      "1440/1443 [============================>.] - ETA: 0s - loss: 0.2747 - acc: 0.8812Epoch 00025: val_loss improved from 0.30544 to 0.27106, saving model to ./best_weights.hdf5\n",
      "1443/1443 [==============================] - 23s 16ms/step - loss: 0.2743 - acc: 0.8815 - val_loss: 0.2711 - val_acc: 0.9130\n",
      "Epoch 26/50\n",
      "1440/1443 [============================>.] - ETA: 0s - loss: 0.2601 - acc: 0.8819Epoch 00026: val_loss did not improve\n",
      "1443/1443 [==============================] - 23s 16ms/step - loss: 0.2600 - acc: 0.8822 - val_loss: 0.3760 - val_acc: 0.8137\n",
      "Epoch 27/50\n",
      "1440/1443 [============================>.] - ETA: 0s - loss: 0.2443 - acc: 0.8986Epoch 00027: val_loss did not improve\n",
      "1443/1443 [==============================] - 22s 15ms/step - loss: 0.2454 - acc: 0.8981 - val_loss: 0.6202 - val_acc: 0.5404\n",
      "Epoch 28/50\n",
      "1440/1443 [============================>.] - ETA: 0s - loss: 0.2461 - acc: 0.8840Epoch 00028: val_loss did not improve\n",
      "1443/1443 [==============================] - 23s 16ms/step - loss: 0.2457 - acc: 0.8843 - val_loss: 0.4090 - val_acc: 0.7640\n",
      "Epoch 29/50\n",
      "1440/1443 [============================>.] - ETA: 0s - loss: 0.2522 - acc: 0.8910Epoch 00029: val_loss did not improve\n",
      "1443/1443 [==============================] - 24s 16ms/step - loss: 0.2521 - acc: 0.8912 - val_loss: 0.4391 - val_acc: 0.7143\n",
      "Epoch 30/50\n",
      "1440/1443 [============================>.] - ETA: 0s - loss: 0.2389 - acc: 0.8924Epoch 00030: val_loss improved from 0.27106 to 0.23167, saving model to ./best_weights.hdf5\n",
      "1443/1443 [==============================] - 23s 16ms/step - loss: 0.2389 - acc: 0.8919 - val_loss: 0.2317 - val_acc: 0.9130\n",
      "Epoch 31/50\n",
      "1440/1443 [============================>.] - ETA: 0s - loss: 0.2233 - acc: 0.9062Epoch 00031: val_loss did not improve\n",
      "1443/1443 [==============================] - 22s 15ms/step - loss: 0.2230 - acc: 0.9064 - val_loss: 0.2594 - val_acc: 0.9317\n"
     ]
    },
    {
     "name": "stdout",
     "output_type": "stream",
     "text": [
      "Epoch 32/50\n",
      "1440/1443 [============================>.] - ETA: 0s - loss: 0.2273 - acc: 0.8889Epoch 00032: val_loss did not improve\n",
      "1443/1443 [==============================] - 21s 15ms/step - loss: 0.2290 - acc: 0.8884 - val_loss: 0.3285 - val_acc: 0.8758\n",
      "Epoch 33/50\n",
      "1440/1443 [============================>.] - ETA: 0s - loss: 0.2255 - acc: 0.9062Epoch 00033: val_loss did not improve\n",
      "1443/1443 [==============================] - 22s 15ms/step - loss: 0.2254 - acc: 0.9064 - val_loss: 0.3064 - val_acc: 0.9068\n",
      "Epoch 34/50\n",
      "1440/1443 [============================>.] - ETA: 0s - loss: 0.2562 - acc: 0.8889Epoch 00034: val_loss did not improve\n",
      "1443/1443 [==============================] - 21s 15ms/step - loss: 0.2565 - acc: 0.8891 - val_loss: 0.4139 - val_acc: 0.7640\n",
      "Epoch 35/50\n",
      "1440/1443 [============================>.] - ETA: 0s - loss: 0.2391 - acc: 0.9042Epoch 00035: val_loss did not improve\n",
      "1443/1443 [==============================] - 21s 15ms/step - loss: 0.2391 - acc: 0.9037 - val_loss: 0.4652 - val_acc: 0.8075\n",
      "Epoch 36/50\n",
      "1440/1443 [============================>.] - ETA: 0s - loss: 0.2340 - acc: 0.8889Epoch 00036: val_loss did not improve\n",
      "1443/1443 [==============================] - 22s 16ms/step - loss: 0.2341 - acc: 0.8891 - val_loss: 0.3221 - val_acc: 0.8137\n",
      "Epoch 37/50\n",
      "1440/1443 [============================>.] - ETA: 0s - loss: 0.2407 - acc: 0.8875Epoch 00037: val_loss did not improve\n",
      "1443/1443 [==============================] - 21s 15ms/step - loss: 0.2402 - acc: 0.8877 - val_loss: 0.4478 - val_acc: 0.7826\n",
      "Epoch 38/50\n",
      "1440/1443 [============================>.] - ETA: 0s - loss: 0.2268 - acc: 0.8951Epoch 00038: val_loss did not improve\n",
      "1443/1443 [==============================] - 22s 16ms/step - loss: 0.2264 - acc: 0.8954 - val_loss: 0.2950 - val_acc: 0.8820\n",
      "Epoch 39/50\n",
      "1440/1443 [============================>.] - ETA: 0s - loss: 0.2110 - acc: 0.9132Epoch 00039: val_loss did not improve\n",
      "1443/1443 [==============================] - 24s 17ms/step - loss: 0.2106 - acc: 0.9134 - val_loss: 0.2382 - val_acc: 0.9068\n",
      "Epoch 40/50\n",
      "1440/1443 [============================>.] - ETA: 0s - loss: 0.2234 - acc: 0.9181Epoch 00040: val_loss did not improve\n",
      "1443/1443 [==============================] - 24s 17ms/step - loss: 0.2233 - acc: 0.9182 - val_loss: 0.3524 - val_acc: 0.8509\n",
      "Epoch 41/50\n",
      "1440/1443 [============================>.] - ETA: 0s - loss: 0.2410 - acc: 0.9000Epoch 00041: val_loss did not improve\n",
      "1443/1443 [==============================] - 23s 16ms/step - loss: 0.2410 - acc: 0.9002 - val_loss: 0.4113 - val_acc: 0.8758\n",
      "Epoch 42/50\n",
      "1440/1443 [============================>.] - ETA: 0s - loss: 0.2109 - acc: 0.9181Epoch 00042: val_loss did not improve\n",
      "1443/1443 [==============================] - 22s 15ms/step - loss: 0.2116 - acc: 0.9175 - val_loss: 0.5430 - val_acc: 0.7516\n",
      "Epoch 00042: early stopping\n"
     ]
    }
   ],
   "source": [
    "model,history = getBestModel()"
   ]
  },
  {
   "cell_type": "code",
   "execution_count": 16,
   "metadata": {},
   "outputs": [
    {
     "name": "stdout",
     "output_type": "stream",
     "text": [
      "Test loss: 0.170318229983\n",
      "Test accuracy: 0.922693266833\n"
     ]
    },
    {
     "data": {
      "image/png": "[encoded data removed]",
      "text/plain": [
       "<matplotlib.figure.Figure at 0x7f1c4c56aef0>"
      ]
     },
     "metadata": {},
     "output_type": "display_data"
    }
   ],
   "source": [
    "score = model.evaluate(x_train, y_train, verbose=0)\n",
    "print('Test loss:', score[0])\n",
    "print('Test accuracy:', score[1])\n",
    "plt.plot(history.history['acc'])\n",
    "plt.plot(history.history['val_acc'])\n",
    "plt.title('model accuracy')\n",
    "plt.ylabel('accuracy')\n",
    "plt.xlabel('epoch')\n",
    "plt.legend(['train', 'test'], loc='upper left')\n",
    "plt.show()"
   ]
  },
  {
   "cell_type": "code",
   "execution_count": 17,
   "metadata": {},
   "outputs": [
    {
     "data": {
      "image/png": "[encoded data removed]",
      "text/plain": [
       "<matplotlib.figure.Figure at 0x7f1c4c56aa90>"
      ]
     },
     "metadata": {},
     "output_type": "display_data"
    },
    {
     "name": "stdout",
     "output_type": "stream",
     "text": [
      "0.465165753322\n"
     ]
    }
   ],
   "source": [
    "plt.plot(history.history['loss'])\n",
    "plt.plot(history.history['val_loss'])\n",
    "plt.title('model loss')\n",
    "plt.ylabel('loss')\n",
    "plt.xlabel('epoch')\n",
    "plt.legend(['train', 'test'], loc='upper left')\n",
    "plt.show()\n",
    "hist = history.history['val_loss']\n",
    "print(sum(hist)/len(hist))"
   ]
  },
  {
   "cell_type": "code",
   "execution_count": 18,
   "metadata": {},
   "outputs": [],
   "source": [
    "test = pd.read_json('./TestData/processed/test.json')"
   ]
  },
  {
   "cell_type": "code",
   "execution_count": 19,
   "metadata": {},
   "outputs": [],
   "source": [
    "bands = ['band_1','band_2']\n",
    "x_test = np.empty([8424,0])\n",
    "for band in bands:\n",
    "    x_temp = np.zeros((8424,5625))\n",
    "    for x in range(8424):\n",
    "        x_temp[x] += test[band][x]\n",
    "    x_test = np.concatenate((x_test,x_temp),axis=1)\n",
    "x_test = x_test.reshape(x_test.shape[0], img_x, img_y, channels)    "
   ]
  },
  {
   "cell_type": "code",
   "execution_count": 20,
   "metadata": {},
   "outputs": [],
   "source": [
    "predictions = model.predict(x_test)"
   ]
  },
  {
   "cell_type": "code",
   "execution_count": 21,
   "metadata": {},
   "outputs": [],
   "source": [
    "#Setting ids as PassengerId and predicting survival\n",
    "ids = test['id']\n",
    "\n",
    "df1 = pd.DataFrame(predictions)\n",
    "df2 = pd.DataFrame(ids)\n",
    "result = pd.concat([df1, df2], axis=1, join_axes=[df1.index])\n",
    "result.columns = ['is_iceberg', 'id']\n",
    "result=result.reindex(columns=['id','is_iceberg'])\n",
    "result.to_csv('8thSubmission.csv', index=False)"
   ]
  },
  {
   "cell_type": "code",
   "execution_count": 22,
   "metadata": {},
   "outputs": [
    {
     "data": {
      "text/plain": [
       "array([  0.00000000e+00,   1.56889937e-38,   1.92293042e-38, ...,\n",
       "         9.99999762e-01,   9.99999881e-01,   1.00000000e+00], dtype=float32)"
      ]
     },
     "execution_count": 22,
     "metadata": {},
     "output_type": "execute_result"
    }
   ],
   "source": [
    "np.unique(predictions)"
   ]
  },
  {
   "cell_type": "code",
   "execution_count": null,
   "metadata": {},
   "outputs": [],
   "source": []
  }
 ],
 "metadata": {
  "kernelspec": {
   "display_name": "Python 3",
   "language": "python",
   "name": "python3"
  },
  "language_info": {
   "codemirror_mode": {
    "name": "ipython",
    "version": 3
   },
   "file_extension": ".py",
   "mimetype": "text/x-python",
   "name": "python",
   "nbconvert_exporter": "python",
   "pygments_lexer": "ipython3",
   "version": "3.5.2"
  }
 },
 "nbformat": 4,
 "nbformat_minor": 2
}
