{
 "cells": [
  {
   "cell_type": "code",
   "execution_count": 2,
   "metadata": {},
   "outputs": [
    {
     "name": "stderr",
     "output_type": "stream",
     "text": [
      "Using TensorFlow backend.\n"
     ]
    }
   ],
   "source": [
    "import numpy as np\n",
    "import pandas as pd\n",
    "import matplotlib.pyplot as plt\n",
    "import keras\n",
    "import h5py\n",
    "from keras import regularizers\n",
    "from keras.layers import Dense, Flatten, Dropout\n",
    "from keras.layers import Conv2D, MaxPooling2D, AveragePooling2D\n",
    "from keras.models import Sequential\n",
    "from keras.callbacks import ModelCheckpoint\n",
    "from keras.utils import normalize\n",
    "from keras.wrappers.scikit_learn import KerasClassifier\n",
    "from sklearn.model_selection import cross_val_score\n",
    "from sklearn.preprocessing import LabelEncoder\n",
    "from sklearn.model_selection import StratifiedKFold\n",
    "from sklearn.preprocessing import StandardScaler\n",
    "from sklearn.pipeline import Pipeline\n",
    "from sklearn.metrics import mean_squared_error\n",
    "%matplotlib inline\n",
    "#Git changes test"
   ]
  },
  {
   "cell_type": "code",
   "execution_count": 3,
   "metadata": {},
   "outputs": [],
   "source": [
    "batch_size = 10\n",
    "num_classes = 1\n",
    "epochs = 50\n",
    "channels = 2"
   ]
  },
  {
   "cell_type": "code",
   "execution_count": 4,
   "metadata": {},
   "outputs": [],
   "source": [
    "#image input dimensions\n",
    "img_x, img_y = 75,75"
   ]
  },
  {
   "cell_type": "code",
   "execution_count": 5,
   "metadata": {},
   "outputs": [],
   "source": [
    "#load train  data\n",
    "train = pd.read_json('./TrainData/data/processed/train.json')\n",
    "bands = ['band_1','band_2']\n",
    "x_total = np.empty([1604,0])\n",
    "for band in bands:\n",
    "    x_temp = np.zeros((1604,5625))\n",
    "    for x in range(1604):\n",
    "        x_temp[x] += train[band][x]\n",
    "    #x_temp = keras.utils.normalize(x_temp)\n",
    "    x_total = np.concatenate((x_total,x_temp),axis=1)\n",
    "y_total = np.array(train['is_iceberg']) \n",
    "y_total = y_total.reshape(1604,1)\n",
    "x_train = x_total\n",
    "y_train = y_total"
   ]
  },
  {
   "cell_type": "code",
   "execution_count": 6,
   "metadata": {},
   "outputs": [],
   "source": [
    "#Splitting into test data\n",
    "#x_train, x_test =x_total[:1444,:], x_total[1444:,:]\n",
    "#y_train, y_test =y_total[:1444,:], y_total[1444:,:]"
   ]
  },
  {
   "cell_type": "code",
   "execution_count": 7,
   "metadata": {},
   "outputs": [],
   "source": [
    "# reshape the data into a 4D tensor - (sample_number, x_img_size, y_img_size, num_channels)\n",
    "# two channels\n",
    "x_train = x_train.reshape(x_train.shape[0], img_x, img_y, channels)\n",
    "#x_test = x_test.reshape(x_test.shape[0], img_x, img_y, channels)\n",
    "input_shape = (img_x, img_y, channels)"
   ]
  },
  {
   "cell_type": "code",
   "execution_count": 29,
   "metadata": {},
   "outputs": [
    {
     "name": "stdout",
     "output_type": "stream",
     "text": [
      "_________________________________________________________________\n",
      "Layer (type)                 Output Shape              Param #   \n",
      "=================================================================\n",
      "conv2d_51 (Conv2D)           (None, 73, 73, 64)        1216      \n",
      "_________________________________________________________________\n",
      "max_pooling2d_45 (MaxPooling (None, 36, 36, 64)        0         \n",
      "_________________________________________________________________\n",
      "dropout_62 (Dropout)         (None, 36, 36, 64)        0         \n",
      "_________________________________________________________________\n",
      "conv2d_52 (Conv2D)           (None, 34, 34, 128)       73856     \n",
      "_________________________________________________________________\n",
      "max_pooling2d_46 (MaxPooling (None, 17, 17, 128)       0         \n",
      "_________________________________________________________________\n",
      "dropout_63 (Dropout)         (None, 17, 17, 128)       0         \n",
      "_________________________________________________________________\n",
      "conv2d_53 (Conv2D)           (None, 15, 15, 128)       147584    \n",
      "_________________________________________________________________\n",
      "max_pooling2d_47 (MaxPooling (None, 7, 7, 128)         0         \n",
      "_________________________________________________________________\n",
      "dropout_64 (Dropout)         (None, 7, 7, 128)         0         \n",
      "_________________________________________________________________\n",
      "conv2d_54 (Conv2D)           (None, 5, 5, 64)          73792     \n",
      "_________________________________________________________________\n",
      "max_pooling2d_48 (MaxPooling (None, 2, 2, 64)          0         \n",
      "_________________________________________________________________\n",
      "average_pooling2d_20 (Averag (None, 1, 1, 64)          0         \n",
      "_________________________________________________________________\n",
      "dropout_65 (Dropout)         (None, 1, 1, 64)          0         \n",
      "_________________________________________________________________\n",
      "flatten_10 (Flatten)         (None, 64)                0         \n",
      "_________________________________________________________________\n",
      "dense_28 (Dense)             (None, 64)                4160      \n",
      "_________________________________________________________________\n",
      "dropout_66 (Dropout)         (None, 64)                0         \n",
      "_________________________________________________________________\n",
      "dense_29 (Dense)             (None, 64)                4160      \n",
      "_________________________________________________________________\n",
      "dropout_67 (Dropout)         (None, 64)                0         \n",
      "_________________________________________________________________\n",
      "dense_30 (Dense)             (None, 1)                 65        \n",
      "=================================================================\n",
      "Total params: 304,833\n",
      "Trainable params: 304,833\n",
      "Non-trainable params: 0\n",
      "_________________________________________________________________\n"
     ]
    }
   ],
   "source": [
    "model = Sequential()\n",
    "\n",
    "model.add(Conv2D(64, kernel_size=(3, 3),\n",
    "                 activation='relu',\n",
    "                 input_shape=input_shape))\n",
    "model.add(MaxPooling2D(pool_size=(3, 3),strides=(2, 2)))\n",
    "model.add(Dropout(0.2))\n",
    "          \n",
    "model.add(Conv2D(128, kernel_size=(3, 3),\n",
    "                 activation='relu',\n",
    "                 input_shape=input_shape))\n",
    "model.add(MaxPooling2D(pool_size=(2, 2)))\n",
    "model.add(Dropout(0.2))\n",
    "\n",
    "model.add(Conv2D(128, kernel_size=(3, 3),\n",
    "                 activation='relu',\n",
    "                 input_shape=input_shape))\n",
    "model.add(MaxPooling2D(pool_size=(2, 2)))\n",
    "model.add(Dropout(0.2))\n",
    "             \n",
    "model.add(Conv2D(64, kernel_size=(3, 3),\n",
    "                 activation='relu',\n",
    "                 input_shape=input_shape))\n",
    "model.add(MaxPooling2D(pool_size=(2, 2)))\n",
    "model.add(AveragePooling2D(pool_size=(2, 2)))\n",
    "model.add(Dropout(0.2))\n",
    "          \n",
    "model.add(Flatten())\n",
    "\n",
    "model.add(Dense(64, activation='relu'))\n",
    "model.add(Dropout(0.2))\n",
    "          \n",
    "model.add(Dense(64, activation='relu'))\n",
    "model.add(Dropout(0.2))\n",
    "\n",
    "model.add(Dense(num_classes, activation='sigmoid'))\n",
    "opt = keras.optimizers.Adam(lr=0.0001)\n",
    "\n",
    "history = keras.callbacks.History()\n",
    "model.summary()"
   ]
  },
  {
   "cell_type": "code",
   "execution_count": 30,
   "metadata": {},
   "outputs": [],
   "source": [
    "def getBestModel():\n",
    "    model.compile(loss=keras.losses.binary_crossentropy,\n",
    "              optimizer=opt,\n",
    "              metrics=['accuracy'])\n",
    "    best_weights_filepath = './best_weights.hdf5'\n",
    "    earlyStopping=keras.callbacks.EarlyStopping(monitor='val_loss', patience=12, verbose=1, mode='auto')\n",
    "    saveBestModel = keras.callbacks.ModelCheckpoint(best_weights_filepath, monitor='val_loss', verbose=1, save_best_only=True, mode='auto')\n",
    "\n",
    "    # train model\n",
    "    history = model.fit(x_train, y_train, batch_size=batch_size, nb_epoch=epochs,\n",
    "              verbose=1, validation_split= 0.10, callbacks=[earlyStopping, saveBestModel])\n",
    "\n",
    "    #reload best weights\n",
    "    model.load_weights(best_weights_filepath)\n",
    "    return model, history"
   ]
  },
  {
   "cell_type": "code",
   "execution_count": 31,
   "metadata": {},
   "outputs": [
    {
     "name": "stderr",
     "output_type": "stream",
     "text": [
      "/home/angel/tensorflow/lib/python3.5/site-packages/keras/models.py:874: UserWarning: The `nb_epoch` argument in `fit` has been renamed `epochs`.\n",
      "  warnings.warn('The `nb_epoch` argument in `fit` '\n"
     ]
    },
    {
     "name": "stdout",
     "output_type": "stream",
     "text": [
      "Train on 1443 samples, validate on 161 samples\n",
      "Epoch 1/50\n",
      "1440/1443 [============================>.] - ETA: 0s - loss: 0.8695 - acc: 0.4792Epoch 00001: val_loss improved from inf to 0.70296, saving model to ./best_weights.hdf5\n",
      "1443/1443 [==============================] - 23s 16ms/step - loss: 0.8693 - acc: 0.4789 - val_loss: 0.7030 - val_acc: 0.2236\n",
      "Epoch 2/50\n",
      "1440/1443 [============================>.] - ETA: 0s - loss: 0.7147 - acc: 0.4931Epoch 00002: val_loss did not improve\n",
      "1443/1443 [==============================] - 22s 15ms/step - loss: 0.7149 - acc: 0.4927 - val_loss: 0.7061 - val_acc: 0.2174\n",
      "Epoch 3/50\n",
      "1440/1443 [============================>.] - ETA: 0s - loss: 0.7064 - acc: 0.5007Epoch 00003: val_loss improved from 0.70296 to 0.70008, saving model to ./best_weights.hdf5\n",
      "1443/1443 [==============================] - 21s 15ms/step - loss: 0.7064 - acc: 0.5010 - val_loss: 0.7001 - val_acc: 0.2733\n",
      "Epoch 4/50\n",
      "1440/1443 [============================>.] - ETA: 0s - loss: 0.6974 - acc: 0.5042Epoch 00004: val_loss improved from 0.70008 to 0.68944, saving model to ./best_weights.hdf5\n",
      "1443/1443 [==============================] - 23s 16ms/step - loss: 0.6975 - acc: 0.5031 - val_loss: 0.6894 - val_acc: 0.3665\n",
      "Epoch 5/50\n",
      "1440/1443 [============================>.] - ETA: 0s - loss: 0.6477 - acc: 0.5847Epoch 00005: val_loss improved from 0.68944 to 0.60729, saving model to ./best_weights.hdf5\n",
      "1443/1443 [==============================] - 21s 15ms/step - loss: 0.6478 - acc: 0.5842 - val_loss: 0.6073 - val_acc: 0.4224\n",
      "Epoch 6/50\n",
      "1440/1443 [============================>.] - ETA: 0s - loss: 0.5854 - acc: 0.6417Epoch 00006: val_loss did not improve\n",
      "1443/1443 [==============================] - 23s 16ms/step - loss: 0.5854 - acc: 0.6417 - val_loss: 0.6130 - val_acc: 0.4224\n",
      "Epoch 7/50\n",
      "1440/1443 [============================>.] - ETA: 0s - loss: 0.5703 - acc: 0.6576Epoch 00007: val_loss improved from 0.60729 to 0.59624, saving model to ./best_weights.hdf5\n",
      "1443/1443 [==============================] - 22s 15ms/step - loss: 0.5698 - acc: 0.6584 - val_loss: 0.5962 - val_acc: 0.4348\n",
      "Epoch 8/50\n",
      "1440/1443 [============================>.] - ETA: 0s - loss: 0.5672 - acc: 0.6681Epoch 00008: val_loss did not improve\n",
      "1443/1443 [==============================] - 21s 15ms/step - loss: 0.5681 - acc: 0.6674 - val_loss: 0.6308 - val_acc: 0.4348\n",
      "Epoch 9/50\n",
      "1440/1443 [============================>.] - ETA: 0s - loss: 0.5669 - acc: 0.6757Epoch 00009: val_loss improved from 0.59624 to 0.58795, saving model to ./best_weights.hdf5\n",
      "1443/1443 [==============================] - 22s 16ms/step - loss: 0.5671 - acc: 0.6757 - val_loss: 0.5879 - val_acc: 0.4224\n",
      "Epoch 10/50\n",
      "1440/1443 [============================>.] - ETA: 0s - loss: 0.5506 - acc: 0.6813Epoch 00010: val_loss did not improve\n",
      "1443/1443 [==============================] - 23s 16ms/step - loss: 0.5504 - acc: 0.6812 - val_loss: 0.6012 - val_acc: 0.4472\n",
      "Epoch 11/50\n",
      "1440/1443 [============================>.] - ETA: 0s - loss: 0.5591 - acc: 0.6903Epoch 00011: val_loss did not improve\n",
      "1443/1443 [==============================] - 22s 15ms/step - loss: 0.5586 - acc: 0.6909 - val_loss: 0.6065 - val_acc: 0.4348\n",
      "Epoch 12/50\n",
      "1440/1443 [============================>.] - ETA: 0s - loss: 0.5473 - acc: 0.6986Epoch 00012: val_loss did not improve\n",
      "1443/1443 [==============================] - 21s 15ms/step - loss: 0.5467 - acc: 0.6992 - val_loss: 0.6099 - val_acc: 0.4348\n",
      "Epoch 13/50\n",
      "1440/1443 [============================>.] - ETA: 0s - loss: 0.5494 - acc: 0.6868Epoch 00013: val_loss did not improve\n",
      "1443/1443 [==============================] - 21s 15ms/step - loss: 0.5490 - acc: 0.6875 - val_loss: 0.5979 - val_acc: 0.4348\n",
      "Epoch 14/50\n",
      "1440/1443 [============================>.] - ETA: 0s - loss: 0.5477 - acc: 0.6972Epoch 00014: val_loss did not improve\n",
      "1443/1443 [==============================] - 24s 17ms/step - loss: 0.5477 - acc: 0.6972 - val_loss: 0.6202 - val_acc: 0.4410\n",
      "Epoch 15/50\n",
      "1440/1443 [============================>.] - ETA: 0s - loss: 0.5440 - acc: 0.7049Epoch 00015: val_loss did not improve\n",
      "1443/1443 [==============================] - 23s 16ms/step - loss: 0.5441 - acc: 0.7048 - val_loss: 0.6112 - val_acc: 0.4658\n",
      "Epoch 16/50\n",
      "1440/1443 [============================>.] - ETA: 0s - loss: 0.5423 - acc: 0.7076Epoch 00016: val_loss did not improve\n",
      "1443/1443 [==============================] - 23s 16ms/step - loss: 0.5420 - acc: 0.7082 - val_loss: 0.5890 - val_acc: 0.4783\n",
      "Epoch 17/50\n",
      "1440/1443 [============================>.] - ETA: 0s - loss: 0.5407 - acc: 0.7118Epoch 00017: val_loss did not improve\n",
      "1443/1443 [==============================] - 24s 17ms/step - loss: 0.5404 - acc: 0.7117 - val_loss: 0.5995 - val_acc: 0.4658\n",
      "Epoch 18/50\n",
      "1440/1443 [============================>.] - ETA: 0s - loss: 0.5348 - acc: 0.7118Epoch 00018: val_loss did not improve\n",
      "1443/1443 [==============================] - 25s 17ms/step - loss: 0.5344 - acc: 0.7124 - val_loss: 0.5918 - val_acc: 0.4783\n",
      "Epoch 19/50\n",
      "1440/1443 [============================>.] - ETA: 0s - loss: 0.5276 - acc: 0.7188Epoch 00019: val_loss improved from 0.58795 to 0.58283, saving model to ./best_weights.hdf5\n",
      "1443/1443 [==============================] - 24s 17ms/step - loss: 0.5278 - acc: 0.7179 - val_loss: 0.5828 - val_acc: 0.4845\n",
      "Epoch 20/50\n",
      "1440/1443 [============================>.] - ETA: 0s - loss: 0.5239 - acc: 0.7250Epoch 00020: val_loss did not improve\n",
      "1443/1443 [==============================] - 24s 17ms/step - loss: 0.5243 - acc: 0.7249 - val_loss: 0.6002 - val_acc: 0.4907\n",
      "Epoch 21/50\n",
      "1440/1443 [============================>.] - ETA: 0s - loss: 0.5172 - acc: 0.7257Epoch 00021: val_loss did not improve\n",
      "1443/1443 [==============================] - 23s 16ms/step - loss: 0.5174 - acc: 0.7249 - val_loss: 0.5937 - val_acc: 0.4969\n",
      "Epoch 22/50\n",
      "1440/1443 [============================>.] - ETA: 0s - loss: 0.5262 - acc: 0.7250Epoch 00022: val_loss did not improve\n",
      "1443/1443 [==============================] - 21s 15ms/step - loss: 0.5262 - acc: 0.7249 - val_loss: 0.5875 - val_acc: 0.4969\n",
      "Epoch 23/50\n",
      "1440/1443 [============================>.] - ETA: 0s - loss: 0.5178 - acc: 0.7264Epoch 00023: val_loss improved from 0.58283 to 0.57780, saving model to ./best_weights.hdf5\n",
      "1443/1443 [==============================] - 22s 15ms/step - loss: 0.5174 - acc: 0.7270 - val_loss: 0.5778 - val_acc: 0.5093\n",
      "Epoch 24/50\n",
      "1440/1443 [============================>.] - ETA: 0s - loss: 0.5097 - acc: 0.7285Epoch 00024: val_loss improved from 0.57780 to 0.55453, saving model to ./best_weights.hdf5\n",
      "1443/1443 [==============================] - 22s 15ms/step - loss: 0.5096 - acc: 0.7283 - val_loss: 0.5545 - val_acc: 0.5155\n",
      "Epoch 25/50\n",
      "1440/1443 [============================>.] - ETA: 0s - loss: 0.5104 - acc: 0.7340Epoch 00025: val_loss did not improve\n",
      "1443/1443 [==============================] - 22s 15ms/step - loss: 0.5122 - acc: 0.7332 - val_loss: 0.5712 - val_acc: 0.5093\n",
      "Epoch 26/50\n",
      "1440/1443 [============================>.] - ETA: 0s - loss: 0.4885 - acc: 0.7444Epoch 00026: val_loss did not improve\n",
      "1443/1443 [==============================] - 22s 15ms/step - loss: 0.4880 - acc: 0.7450 - val_loss: 0.5624 - val_acc: 0.5839\n",
      "Epoch 27/50\n",
      "1440/1443 [============================>.] - ETA: 0s - loss: 0.4765 - acc: 0.7583Epoch 00027: val_loss improved from 0.55453 to 0.53090, saving model to ./best_weights.hdf5\n",
      "1443/1443 [==============================] - 22s 15ms/step - loss: 0.4759 - acc: 0.7588 - val_loss: 0.5309 - val_acc: 0.5776\n",
      "Epoch 28/50\n",
      "1440/1443 [============================>.] - ETA: 0s - loss: 0.4669 - acc: 0.7667Epoch 00028: val_loss did not improve\n",
      "1443/1443 [==============================] - 22s 15ms/step - loss: 0.4666 - acc: 0.7672 - val_loss: 0.5655 - val_acc: 0.5217\n",
      "Epoch 29/50\n",
      "1440/1443 [============================>.] - ETA: 0s - loss: 0.4227 - acc: 0.7889Epoch 00029: val_loss did not improve\n",
      "1443/1443 [==============================] - 21s 15ms/step - loss: 0.4254 - acc: 0.7879 - val_loss: 0.5551 - val_acc: 0.5776\n",
      "Epoch 30/50\n",
      "1440/1443 [============================>.] - ETA: 0s - loss: 0.4150 - acc: 0.7903Epoch 00030: val_loss improved from 0.53090 to 0.50451, saving model to ./best_weights.hdf5\n",
      "1443/1443 [==============================] - 22s 15ms/step - loss: 0.4145 - acc: 0.7907 - val_loss: 0.5045 - val_acc: 0.6149\n"
     ]
    },
    {
     "name": "stdout",
     "output_type": "stream",
     "text": [
      "Epoch 31/50\n",
      "1440/1443 [============================>.] - ETA: 0s - loss: 0.3880 - acc: 0.8257Epoch 00031: val_loss did not improve\n",
      "1443/1443 [==============================] - 21s 15ms/step - loss: 0.3884 - acc: 0.8254 - val_loss: 0.7490 - val_acc: 0.4845\n",
      "Epoch 32/50\n",
      "1440/1443 [============================>.] - ETA: 0s - loss: 0.3754 - acc: 0.8257Epoch 00032: val_loss improved from 0.50451 to 0.46349, saving model to ./best_weights.hdf5\n",
      "1443/1443 [==============================] - 21s 15ms/step - loss: 0.3762 - acc: 0.8254 - val_loss: 0.4635 - val_acc: 0.6584\n",
      "Epoch 33/50\n",
      "1440/1443 [============================>.] - ETA: 0s - loss: 0.3540 - acc: 0.8410Epoch 00033: val_loss improved from 0.46349 to 0.44428, saving model to ./best_weights.hdf5\n",
      "1443/1443 [==============================] - 22s 15ms/step - loss: 0.3540 - acc: 0.8406 - val_loss: 0.4443 - val_acc: 0.7453\n",
      "Epoch 34/50\n",
      "1440/1443 [============================>.] - ETA: 0s - loss: 0.3397 - acc: 0.8444Epoch 00034: val_loss did not improve\n",
      "1443/1443 [==============================] - 21s 15ms/step - loss: 0.3396 - acc: 0.8448 - val_loss: 0.5566 - val_acc: 0.6584\n",
      "Epoch 35/50\n",
      "1440/1443 [============================>.] - ETA: 0s - loss: 0.3236 - acc: 0.8451Epoch 00035: val_loss improved from 0.44428 to 0.43826, saving model to ./best_weights.hdf5\n",
      "1443/1443 [==============================] - 21s 15ms/step - loss: 0.3232 - acc: 0.8455 - val_loss: 0.4383 - val_acc: 0.7888\n",
      "Epoch 36/50\n",
      "1440/1443 [============================>.] - ETA: 0s - loss: 0.3070 - acc: 0.8674Epoch 00036: val_loss improved from 0.43826 to 0.33994, saving model to ./best_weights.hdf5\n",
      "1443/1443 [==============================] - 21s 15ms/step - loss: 0.3074 - acc: 0.8676 - val_loss: 0.3399 - val_acc: 0.8820\n",
      "Epoch 37/50\n",
      "1440/1443 [============================>.] - ETA: 0s - loss: 0.3139 - acc: 0.8625Epoch 00037: val_loss did not improve\n",
      "1443/1443 [==============================] - 24s 17ms/step - loss: 0.3133 - acc: 0.8628 - val_loss: 0.4456 - val_acc: 0.7950\n",
      "Epoch 38/50\n",
      "1440/1443 [============================>.] - ETA: 0s - loss: 0.2996 - acc: 0.8708Epoch 00038: val_loss did not improve\n",
      "1443/1443 [==============================] - 23s 16ms/step - loss: 0.2992 - acc: 0.8711 - val_loss: 0.4094 - val_acc: 0.8075\n",
      "Epoch 39/50\n",
      "1440/1443 [============================>.] - ETA: 0s - loss: 0.2810 - acc: 0.8722Epoch 00039: val_loss did not improve\n",
      "1443/1443 [==============================] - 23s 16ms/step - loss: 0.2807 - acc: 0.8725 - val_loss: 0.3580 - val_acc: 0.8385\n",
      "Epoch 40/50\n",
      "1440/1443 [============================>.] - ETA: 0s - loss: 0.2750 - acc: 0.8812Epoch 00040: val_loss improved from 0.33994 to 0.33741, saving model to ./best_weights.hdf5\n",
      "1443/1443 [==============================] - 22s 15ms/step - loss: 0.2752 - acc: 0.8808 - val_loss: 0.3374 - val_acc: 0.8571\n",
      "Epoch 41/50\n",
      "1440/1443 [============================>.] - ETA: 0s - loss: 0.2665 - acc: 0.8826Epoch 00041: val_loss improved from 0.33741 to 0.27513, saving model to ./best_weights.hdf5\n",
      "1443/1443 [==============================] - 22s 15ms/step - loss: 0.2662 - acc: 0.8829 - val_loss: 0.2751 - val_acc: 0.8944\n",
      "Epoch 42/50\n",
      "1440/1443 [============================>.] - ETA: 0s - loss: 0.2720 - acc: 0.8875Epoch 00042: val_loss did not improve\n",
      "1443/1443 [==============================] - 21s 15ms/step - loss: 0.2714 - acc: 0.8877 - val_loss: 0.3708 - val_acc: 0.8385\n",
      "Epoch 43/50\n",
      "1440/1443 [============================>.] - ETA: 0s - loss: 0.2661 - acc: 0.8910Epoch 00043: val_loss did not improve\n",
      "1443/1443 [==============================] - 21s 15ms/step - loss: 0.2656 - acc: 0.8912 - val_loss: 0.3376 - val_acc: 0.8509\n",
      "Epoch 44/50\n",
      "1440/1443 [============================>.] - ETA: 0s - loss: 0.2610 - acc: 0.8882Epoch 00044: val_loss did not improve\n",
      "1443/1443 [==============================] - 21s 15ms/step - loss: 0.2610 - acc: 0.8877 - val_loss: 0.3226 - val_acc: 0.8571\n",
      "Epoch 45/50\n",
      "1440/1443 [============================>.] - ETA: 0s - loss: 0.2529 - acc: 0.9021Epoch 00045: val_loss did not improve\n",
      "1443/1443 [==============================] - 21s 15ms/step - loss: 0.2530 - acc: 0.9016 - val_loss: 0.3812 - val_acc: 0.8261\n",
      "Epoch 46/50\n",
      "1440/1443 [============================>.] - ETA: 0s - loss: 0.2547 - acc: 0.8937Epoch 00046: val_loss did not improve\n",
      "1443/1443 [==============================] - 21s 15ms/step - loss: 0.2560 - acc: 0.8926 - val_loss: 0.4046 - val_acc: 0.8199\n",
      "Epoch 47/50\n",
      "1440/1443 [============================>.] - ETA: 0s - loss: 0.2582 - acc: 0.8979Epoch 00047: val_loss did not improve\n",
      "1443/1443 [==============================] - 21s 15ms/step - loss: 0.2589 - acc: 0.8974 - val_loss: 0.3042 - val_acc: 0.8634\n",
      "Epoch 48/50\n",
      "1440/1443 [============================>.] - ETA: 0s - loss: 0.2468 - acc: 0.9000Epoch 00048: val_loss did not improve\n",
      "1443/1443 [==============================] - 21s 15ms/step - loss: 0.2466 - acc: 0.9002 - val_loss: 0.3114 - val_acc: 0.8634\n",
      "Epoch 49/50\n",
      "1440/1443 [============================>.] - ETA: 0s - loss: 0.2468 - acc: 0.8986Epoch 00049: val_loss did not improve\n",
      "1443/1443 [==============================] - 21s 15ms/step - loss: 0.2463 - acc: 0.8988 - val_loss: 0.3127 - val_acc: 0.8571\n",
      "Epoch 50/50\n",
      "1440/1443 [============================>.] - ETA: 0s - loss: 0.2278 - acc: 0.9021Epoch 00050: val_loss improved from 0.27513 to 0.26706, saving model to ./best_weights.hdf5\n",
      "1443/1443 [==============================] - 22s 15ms/step - loss: 0.2274 - acc: 0.9023 - val_loss: 0.2671 - val_acc: 0.9006\n"
     ]
    }
   ],
   "source": [
    "model,history = getBestModel()"
   ]
  },
  {
   "cell_type": "code",
   "execution_count": 32,
   "metadata": {},
   "outputs": [
    {
     "name": "stdout",
     "output_type": "stream",
     "text": [
      "Test loss: 0.193645503381\n",
      "Test accuracy: 0.915835411471\n"
     ]
    },
    {
     "data": {
      "image/png": "[encoded data removed]",
      "text/plain": [
       "<matplotlib.figure.Figure at 0x7fc488d35748>"
      ]
     },
     "metadata": {},
     "output_type": "display_data"
    }
   ],
   "source": [
    "score = model.evaluate(x_train, y_train, verbose=0)\n",
    "print('Test loss:', score[0])\n",
    "print('Test accuracy:', score[1])\n",
    "plt.plot(history.history['acc'])\n",
    "plt.plot(history.history['val_acc'])\n",
    "plt.title('model accuracy')\n",
    "plt.ylabel('accuracy')\n",
    "plt.xlabel('epoch')\n",
    "plt.legend(['train', 'test'], loc='upper left')\n",
    "plt.show()"
   ]
  },
  {
   "cell_type": "code",
   "execution_count": 33,
   "metadata": {},
   "outputs": [
    {
     "data": {
      "image/png": "[encoded data removed]",
      "text/plain": [
       "<matplotlib.figure.Figure at 0x7fc488d35400>"
      ]
     },
     "metadata": {},
     "output_type": "display_data"
    },
    {
     "name": "stdout",
     "output_type": "stream",
     "text": [
      "0.5175362337\n"
     ]
    }
   ],
   "source": [
    "plt.plot(history.history['loss'])\n",
    "plt.plot(history.history['val_loss'])\n",
    "plt.title('model loss')\n",
    "plt.ylabel('loss')\n",
    "plt.xlabel('epoch')\n",
    "plt.legend(['train', 'test'], loc='upper left')\n",
    "plt.show()\n",
    "hist = history.history['val_loss']\n",
    "print(sum(hist)/len(hist))"
   ]
  },
  {
   "cell_type": "code",
   "execution_count": 34,
   "metadata": {},
   "outputs": [],
   "source": [
    "test = pd.read_json('./TestData/processed/test.json')"
   ]
  },
  {
   "cell_type": "code",
   "execution_count": 35,
   "metadata": {},
   "outputs": [],
   "source": [
    "bands = ['band_1','band_2']\n",
    "x_test = np.empty([8424,0])\n",
    "for band in bands:\n",
    "    x_temp = np.zeros((8424,5625))\n",
    "    for x in range(8424):\n",
    "        x_temp[x] += test[band][x]\n",
    "    x_test = np.concatenate((x_test,x_temp),axis=1)\n",
    "x_test = x_test.reshape(x_test.shape[0], img_x, img_y, channels)    "
   ]
  },
  {
   "cell_type": "code",
   "execution_count": 36,
   "metadata": {},
   "outputs": [],
   "source": [
    "predictions = model.predict(x_test)"
   ]
  },
  {
   "cell_type": "code",
   "execution_count": 37,
   "metadata": {},
   "outputs": [],
   "source": [
    "#Setting ids as PassengerId and predicting survival\n",
    "ids = test['id']\n",
    "\n",
    "df1 = pd.DataFrame(predictions)\n",
    "df2 = pd.DataFrame(ids)\n",
    "result = pd.concat([df1, df2], axis=1, join_axes=[df1.index])\n",
    "result.columns = ['is_iceberg', 'id']\n",
    "result=result.reindex(columns=['id','is_iceberg'])\n",
    "result.to_csv('11thSubmission.csv', index=False)"
   ]
  },
  {
   "cell_type": "code",
   "execution_count": 22,
   "metadata": {},
   "outputs": [
    {
     "data": {
      "text/plain": [
       "array([  0.00000000e+00,   1.56889937e-38,   1.92293042e-38, ...,\n",
       "         9.99999762e-01,   9.99999881e-01,   1.00000000e+00], dtype=float32)"
      ]
     },
     "execution_count": 22,
     "metadata": {},
     "output_type": "execute_result"
    }
   ],
   "source": [
    "np.unique(predictions)"
   ]
  },
  {
   "cell_type": "code",
   "execution_count": null,
   "metadata": {},
   "outputs": [],
   "source": []
  }
 ],
 "metadata": {
  "kernelspec": {
   "display_name": "Python 3",
   "language": "python",
   "name": "python3"
  },
  "language_info": {
   "codemirror_mode": {
    "name": "ipython",
    "version": 3
   },
   "file_extension": ".py",
   "mimetype": "text/x-python",
   "name": "python",
   "nbconvert_exporter": "python",
   "pygments_lexer": "ipython3",
   "version": "3.5.2"
  }
 },
 "nbformat": 4,
 "nbformat_minor": 2
}
