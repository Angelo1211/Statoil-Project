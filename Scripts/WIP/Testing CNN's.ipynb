{
 "cells": [
  {
   "cell_type": "code",
   "execution_count": 1,
   "metadata": {},
   "outputs": [
    {
     "name": "stderr",
     "output_type": "stream",
     "text": [
      "Using TensorFlow backend.\n"
     ]
    }
   ],
   "source": [
    "import numpy as np\n",
    "import pandas as pd\n",
    "import matplotlib.pyplot as plt\n",
    "import keras\n",
    "import h5py\n",
    "from keras import regularizers\n",
    "from keras.layers import Dense, Flatten, Dropout\n",
    "from keras.layers import Conv2D, MaxPooling2D, AveragePooling2D\n",
    "from keras.models import Sequential\n",
    "from keras.callbacks import ModelCheckpoint\n",
    "from keras.utils import normalize\n",
    "from keras.wrappers.scikit_learn import KerasClassifier\n",
    "from sklearn.model_selection import cross_val_score\n",
    "from sklearn.preprocessing import LabelEncoder\n",
    "from sklearn.model_selection import StratifiedKFold\n",
    "from sklearn.preprocessing import StandardScaler\n",
    "from sklearn.pipeline import Pipeline\n",
    "from sklearn.metrics import mean_squared_error\n",
    "%matplotlib inline\n",
    "#Git changes test"
   ]
  },
  {
   "cell_type": "code",
   "execution_count": 2,
   "metadata": {},
   "outputs": [],
   "source": [
    "batch_size = 10\n",
    "num_classes = 1\n",
    "epochs = 65\n",
    "channels = 2"
   ]
  },
  {
   "cell_type": "code",
   "execution_count": 3,
   "metadata": {},
   "outputs": [],
   "source": [
    "#image input dimensions\n",
    "img_x, img_y = 75,75"
   ]
  },
  {
   "cell_type": "code",
   "execution_count": 4,
   "metadata": {},
   "outputs": [],
   "source": [
    "#load train  data\n",
    "train = pd.read_json('./TrainData/data/processed/train.json')\n",
    "bands = ['band_1','band_2']\n",
    "x_total = np.empty([1604,0])\n",
    "for band in bands:\n",
    "    x_temp = np.zeros((1604,5625))\n",
    "    for x in range(1604):\n",
    "        x_temp[x] += train[band][x]\n",
    "    #x_temp = keras.utils.normalize(x_temp)\n",
    "    x_total = np.concatenate((x_total,x_temp),axis=1)\n",
    "y_total = np.array(train['is_iceberg']) \n",
    "y_total = y_total.reshape(1604,1)\n",
    "x_train = x_total\n",
    "y_train = y_total"
   ]
  },
  {
   "cell_type": "code",
   "execution_count": 5,
   "metadata": {},
   "outputs": [],
   "source": [
    "#Splitting into test data\n",
    "#x_train, x_test =x_total[:1444,:], x_total[1444:,:]\n",
    "#y_train, y_test =y_total[:1444,:], y_total[1444:,:]"
   ]
  },
  {
   "cell_type": "code",
   "execution_count": 6,
   "metadata": {},
   "outputs": [],
   "source": [
    "# reshape the data into a 4D tensor - (sample_number, x_img_size, y_img_size, num_channels)\n",
    "# two channels\n",
    "x_train = x_train.reshape(x_train.shape[0], img_x, img_y, channels)\n",
    "#x_test = x_test.reshape(x_test.shape[0], img_x, img_y, channels)\n",
    "input_shape = (img_x, img_y, channels)"
   ]
  },
  {
   "cell_type": "code",
   "execution_count": 7,
   "metadata": {},
   "outputs": [
    {
     "name": "stdout",
     "output_type": "stream",
     "text": [
      "_________________________________________________________________\n",
      "Layer (type)                 Output Shape              Param #   \n",
      "=================================================================\n",
      "conv2d_1 (Conv2D)            (None, 73, 73, 64)        1216      \n",
      "_________________________________________________________________\n",
      "max_pooling2d_1 (MaxPooling2 (None, 36, 36, 64)        0         \n",
      "_________________________________________________________________\n",
      "dropout_1 (Dropout)          (None, 36, 36, 64)        0         \n",
      "_________________________________________________________________\n",
      "conv2d_2 (Conv2D)            (None, 34, 34, 128)       73856     \n",
      "_________________________________________________________________\n",
      "max_pooling2d_2 (MaxPooling2 (None, 17, 17, 128)       0         \n",
      "_________________________________________________________________\n",
      "dropout_2 (Dropout)          (None, 17, 17, 128)       0         \n",
      "_________________________________________________________________\n",
      "conv2d_3 (Conv2D)            (None, 15, 15, 128)       147584    \n",
      "_________________________________________________________________\n",
      "max_pooling2d_3 (MaxPooling2 (None, 7, 7, 128)         0         \n",
      "_________________________________________________________________\n",
      "dropout_3 (Dropout)          (None, 7, 7, 128)         0         \n",
      "_________________________________________________________________\n",
      "conv2d_4 (Conv2D)            (None, 5, 5, 64)          73792     \n",
      "_________________________________________________________________\n",
      "max_pooling2d_4 (MaxPooling2 (None, 2, 2, 64)          0         \n",
      "_________________________________________________________________\n",
      "average_pooling2d_1 (Average (None, 1, 1, 64)          0         \n",
      "_________________________________________________________________\n",
      "dropout_4 (Dropout)          (None, 1, 1, 64)          0         \n",
      "_________________________________________________________________\n",
      "flatten_1 (Flatten)          (None, 64)                0         \n",
      "_________________________________________________________________\n",
      "dense_1 (Dense)              (None, 64)                4160      \n",
      "_________________________________________________________________\n",
      "dropout_5 (Dropout)          (None, 64)                0         \n",
      "_________________________________________________________________\n",
      "dense_2 (Dense)              (None, 64)                4160      \n",
      "_________________________________________________________________\n",
      "dropout_6 (Dropout)          (None, 64)                0         \n",
      "_________________________________________________________________\n",
      "dense_3 (Dense)              (None, 1)                 65        \n",
      "=================================================================\n",
      "Total params: 304,833\n",
      "Trainable params: 304,833\n",
      "Non-trainable params: 0\n",
      "_________________________________________________________________\n"
     ]
    }
   ],
   "source": [
    "model = Sequential()\n",
    "\n",
    "model.add(Conv2D(64, kernel_size=(3, 3),\n",
    "                 activation='relu',\n",
    "                 input_shape=input_shape))\n",
    "model.add(MaxPooling2D(pool_size=(3, 3),strides=(2, 2)))\n",
    "model.add(Dropout(0.2))\n",
    "          \n",
    "model.add(Conv2D(128, kernel_size=(3, 3),\n",
    "                 activation='relu',\n",
    "                 input_shape=input_shape))\n",
    "model.add(MaxPooling2D(pool_size=(2, 2)))\n",
    "model.add(Dropout(0.2))\n",
    "\n",
    "model.add(Conv2D(128, kernel_size=(3, 3),\n",
    "                 activation='relu',\n",
    "                 input_shape=input_shape))\n",
    "model.add(MaxPooling2D(pool_size=(2, 2)))\n",
    "model.add(Dropout(0.2))\n",
    "             \n",
    "model.add(Conv2D(64, kernel_size=(3, 3),\n",
    "                 activation='relu',\n",
    "                 input_shape=input_shape))\n",
    "model.add(MaxPooling2D(pool_size=(2, 2)))\n",
    "model.add(AveragePooling2D(pool_size=(2, 2)))\n",
    "model.add(Dropout(0.2))\n",
    "          \n",
    "model.add(Flatten())\n",
    "\n",
    "model.add(Dense(64, activation='relu'))\n",
    "model.add(Dropout(0.2))\n",
    "          \n",
    "model.add(Dense(64, activation='relu'))\n",
    "model.add(Dropout(0.2))\n",
    "\n",
    "model.add(Dense(num_classes, activation='sigmoid'))\n",
    "opt = keras.optimizers.Adam(lr=0.0001)\n",
    "\n",
    "history = keras.callbacks.History()\n",
    "model.summary()"
   ]
  },
  {
   "cell_type": "code",
   "execution_count": 8,
   "metadata": {},
   "outputs": [],
   "source": [
    "def getBestModel():\n",
    "    model.compile(loss=keras.losses.binary_crossentropy,\n",
    "              optimizer=opt,\n",
    "              metrics=['accuracy'])\n",
    "    best_weights_filepath = './best_weights.hdf5'\n",
    "    earlyStopping=keras.callbacks.EarlyStopping(monitor='val_loss', patience=25, verbose=1, mode='auto')\n",
    "    saveBestModel = keras.callbacks.ModelCheckpoint(best_weights_filepath, monitor='val_loss', verbose=1, save_best_only=True, mode='auto')\n",
    "\n",
    "    # train model\n",
    "    history = model.fit(x_train, y_train, batch_size=batch_size, epochs=epochs,\n",
    "              verbose=1)#,# validation_split= 0.10 % callbacks=[earlyStopping, saveBestModel])\n",
    "\n",
    "    #reload best weights\n",
    "    model.load_weights(best_weights_filepath)\n",
    "    return model, history"
   ]
  },
  {
   "cell_type": "code",
   "execution_count": 9,
   "metadata": {},
   "outputs": [
    {
     "name": "stdout",
     "output_type": "stream",
     "text": [
      "Epoch 1/65\n",
      "1604/1604 [==============================] - 22s 14ms/step - loss: 0.8197 - acc: 0.4882\n",
      "Epoch 2/65\n",
      "1604/1604 [==============================] - 21s 13ms/step - loss: 0.7067 - acc: 0.5212\n",
      "Epoch 3/65\n",
      "1604/1604 [==============================] - 21s 13ms/step - loss: 0.6981 - acc: 0.5162\n",
      "Epoch 4/65\n",
      "1604/1604 [==============================] - 21s 13ms/step - loss: 0.6945 - acc: 0.5112\n",
      "Epoch 5/65\n",
      "1604/1604 [==============================] - 21s 13ms/step - loss: 0.6141 - acc: 0.5823\n",
      "Epoch 6/65\n",
      "1604/1604 [==============================] - 21s 13ms/step - loss: 0.5822 - acc: 0.6515\n",
      "Epoch 7/65\n",
      "1604/1604 [==============================] - 21s 13ms/step - loss: 0.5810 - acc: 0.6322\n",
      "Epoch 8/65\n",
      "1604/1604 [==============================] - 21s 13ms/step - loss: 0.5683 - acc: 0.6577\n",
      "Epoch 9/65\n",
      "1604/1604 [==============================] - 21s 13ms/step - loss: 0.5667 - acc: 0.6521\n",
      "Epoch 10/65\n",
      "1604/1604 [==============================] - 21s 13ms/step - loss: 0.5594 - acc: 0.6652\n",
      "Epoch 11/65\n",
      "1604/1604 [==============================] - 21s 13ms/step - loss: 0.5578 - acc: 0.6721\n",
      "Epoch 12/65\n",
      "1604/1604 [==============================] - 21s 13ms/step - loss: 0.5519 - acc: 0.6771\n",
      "Epoch 13/65\n",
      "1604/1604 [==============================] - 21s 13ms/step - loss: 0.5477 - acc: 0.6733\n",
      "Epoch 14/65\n",
      "1604/1604 [==============================] - 21s 13ms/step - loss: 0.5495 - acc: 0.6827\n",
      "Epoch 15/65\n",
      "1604/1604 [==============================] - 21s 13ms/step - loss: 0.5404 - acc: 0.6852\n",
      "Epoch 16/65\n",
      "1604/1604 [==============================] - 21s 13ms/step - loss: 0.5418 - acc: 0.6877\n",
      "Epoch 17/65\n",
      "1604/1604 [==============================] - 21s 13ms/step - loss: 0.5363 - acc: 0.6983\n",
      "Epoch 18/65\n",
      "1604/1604 [==============================] - 21s 13ms/step - loss: 0.5242 - acc: 0.7076\n",
      "Epoch 19/65\n",
      "1604/1604 [==============================] - 21s 13ms/step - loss: 0.5088 - acc: 0.7020\n",
      "Epoch 20/65\n",
      "1604/1604 [==============================] - 21s 13ms/step - loss: 0.5021 - acc: 0.7145\n",
      "Epoch 21/65\n",
      "1604/1604 [==============================] - 21s 13ms/step - loss: 0.4751 - acc: 0.7307\n",
      "Epoch 22/65\n",
      "1604/1604 [==============================] - 21s 13ms/step - loss: 0.4730 - acc: 0.7363\n",
      "Epoch 23/65\n",
      "1604/1604 [==============================] - 21s 13ms/step - loss: 0.4408 - acc: 0.7625\n",
      "Epoch 24/65\n",
      "1604/1604 [==============================] - 21s 13ms/step - loss: 0.4199 - acc: 0.7949\n",
      "Epoch 25/65\n",
      "1604/1604 [==============================] - 21s 13ms/step - loss: 0.3849 - acc: 0.8155\n",
      "Epoch 26/65\n",
      "1604/1604 [==============================] - 21s 13ms/step - loss: 0.3621 - acc: 0.8373\n",
      "Epoch 27/65\n",
      "1604/1604 [==============================] - 21s 13ms/step - loss: 0.3324 - acc: 0.8622\n",
      "Epoch 28/65\n",
      "1604/1604 [==============================] - 21s 13ms/step - loss: 0.3360 - acc: 0.8585\n",
      "Epoch 29/65\n",
      "1604/1604 [==============================] - 21s 13ms/step - loss: 0.3220 - acc: 0.8410\n",
      "Epoch 30/65\n",
      "1604/1604 [==============================] - 22s 14ms/step - loss: 0.3107 - acc: 0.8610\n",
      "Epoch 31/65\n",
      "1604/1604 [==============================] - 21s 13ms/step - loss: 0.3015 - acc: 0.8678\n",
      "Epoch 32/65\n",
      "1604/1604 [==============================] - 21s 13ms/step - loss: 0.2991 - acc: 0.8778\n",
      "Epoch 33/65\n",
      "1604/1604 [==============================] - 21s 13ms/step - loss: 0.2832 - acc: 0.8840\n",
      "Epoch 34/65\n",
      "1604/1604 [==============================] - 21s 13ms/step - loss: 0.2829 - acc: 0.8809\n",
      "Epoch 35/65\n",
      "1604/1604 [==============================] - 21s 13ms/step - loss: 0.2810 - acc: 0.8728\n",
      "Epoch 36/65\n",
      "1604/1604 [==============================] - 21s 13ms/step - loss: 0.2628 - acc: 0.8921\n",
      "Epoch 37/65\n",
      "1604/1604 [==============================] - 21s 13ms/step - loss: 0.2587 - acc: 0.8897\n",
      "Epoch 38/65\n",
      "1604/1604 [==============================] - 21s 13ms/step - loss: 0.2547 - acc: 0.8915\n",
      "Epoch 39/65\n",
      "1604/1604 [==============================] - 21s 13ms/step - loss: 0.2521 - acc: 0.8965\n",
      "Epoch 40/65\n",
      "1604/1604 [==============================] - 21s 13ms/step - loss: 0.2390 - acc: 0.9009\n",
      "Epoch 41/65\n",
      "1604/1604 [==============================] - 21s 13ms/step - loss: 0.2375 - acc: 0.8978\n",
      "Epoch 42/65\n",
      "1604/1604 [==============================] - 21s 13ms/step - loss: 0.2390 - acc: 0.9009\n",
      "Epoch 43/65\n",
      "1604/1604 [==============================] - 21s 13ms/step - loss: 0.2255 - acc: 0.8971\n",
      "Epoch 44/65\n",
      "1604/1604 [==============================] - 21s 13ms/step - loss: 0.2326 - acc: 0.9034\n",
      "Epoch 45/65\n",
      "1604/1604 [==============================] - 21s 13ms/step - loss: 0.2338 - acc: 0.9071\n",
      "Epoch 46/65\n",
      "1604/1604 [==============================] - 21s 13ms/step - loss: 0.2299 - acc: 0.8984\n",
      "Epoch 47/65\n",
      "1604/1604 [==============================] - 21s 13ms/step - loss: 0.2317 - acc: 0.9002\n",
      "Epoch 48/65\n",
      "1604/1604 [==============================] - 21s 13ms/step - loss: 0.2400 - acc: 0.9015\n",
      "Epoch 49/65\n",
      "1604/1604 [==============================] - 21s 13ms/step - loss: 0.2172 - acc: 0.9127\n",
      "Epoch 50/65\n",
      "1604/1604 [==============================] - 21s 13ms/step - loss: 0.2028 - acc: 0.9183\n",
      "Epoch 51/65\n",
      "1604/1604 [==============================] - 21s 13ms/step - loss: 0.2151 - acc: 0.9046\n",
      "Epoch 52/65\n",
      "1604/1604 [==============================] - 21s 13ms/step - loss: 0.2124 - acc: 0.9115\n",
      "Epoch 53/65\n",
      "1604/1604 [==============================] - 21s 13ms/step - loss: 0.2092 - acc: 0.9121\n",
      "Epoch 54/65\n",
      "1604/1604 [==============================] - 21s 13ms/step - loss: 0.1853 - acc: 0.9233\n",
      "Epoch 55/65\n",
      "1604/1604 [==============================] - 21s 13ms/step - loss: 0.2022 - acc: 0.9171\n",
      "Epoch 56/65\n",
      "1604/1604 [==============================] - 21s 13ms/step - loss: 0.1985 - acc: 0.9165\n",
      "Epoch 57/65\n",
      "1604/1604 [==============================] - 21s 13ms/step - loss: 0.1897 - acc: 0.9183\n",
      "Epoch 58/65\n",
      "1604/1604 [==============================] - 21s 13ms/step - loss: 0.1844 - acc: 0.9202\n",
      "Epoch 59/65\n",
      "1604/1604 [==============================] - 21s 13ms/step - loss: 0.1841 - acc: 0.9221\n",
      "Epoch 60/65\n",
      "1604/1604 [==============================] - 22s 14ms/step - loss: 0.1909 - acc: 0.9165\n",
      "Epoch 61/65\n",
      "1604/1604 [==============================] - 21s 13ms/step - loss: 0.1737 - acc: 0.9308\n",
      "Epoch 62/65\n",
      "1604/1604 [==============================] - 21s 13ms/step - loss: 0.1758 - acc: 0.9264\n",
      "Epoch 63/65\n",
      "1604/1604 [==============================] - 21s 13ms/step - loss: 0.1796 - acc: 0.9246\n",
      "Epoch 64/65\n",
      "1604/1604 [==============================] - 21s 13ms/step - loss: 0.1830 - acc: 0.9283\n",
      "Epoch 65/65\n",
      "1604/1604 [==============================] - 21s 13ms/step - loss: 0.1580 - acc: 0.9364\n"
     ]
    }
   ],
   "source": [
    "model,history = getBestModel()"
   ]
  },
  {
   "cell_type": "code",
   "execution_count": 10,
   "metadata": {},
   "outputs": [
    {
     "name": "stdout",
     "output_type": "stream",
     "text": [
      "Test loss: 0.177232580292\n",
      "Test accuracy: 0.920199501247\n"
     ]
    },
    {
     "ename": "KeyError",
     "evalue": "'val_acc'",
     "output_type": "error",
     "traceback": [
      "\u001b[0;31m---------------------------------------------------------------------------\u001b[0m",
      "\u001b[0;31mKeyError\u001b[0m                                  Traceback (most recent call last)",
      "\u001b[0;32m<ipython-input-10-5f4933149052>\u001b[0m in \u001b[0;36m<module>\u001b[0;34m()\u001b[0m\n\u001b[1;32m      3\u001b[0m \u001b[0mprint\u001b[0m\u001b[0;34m(\u001b[0m\u001b[0;34m'Test accuracy:'\u001b[0m\u001b[0;34m,\u001b[0m \u001b[0mscore\u001b[0m\u001b[0;34m[\u001b[0m\u001b[0;36m1\u001b[0m\u001b[0;34m]\u001b[0m\u001b[0;34m)\u001b[0m\u001b[0;34m\u001b[0m\u001b[0m\n\u001b[1;32m      4\u001b[0m \u001b[0mplt\u001b[0m\u001b[0;34m.\u001b[0m\u001b[0mplot\u001b[0m\u001b[0;34m(\u001b[0m\u001b[0mhistory\u001b[0m\u001b[0;34m.\u001b[0m\u001b[0mhistory\u001b[0m\u001b[0;34m[\u001b[0m\u001b[0;34m'acc'\u001b[0m\u001b[0;34m]\u001b[0m\u001b[0;34m)\u001b[0m\u001b[0;34m\u001b[0m\u001b[0m\n\u001b[0;32m----> 5\u001b[0;31m \u001b[0mplt\u001b[0m\u001b[0;34m.\u001b[0m\u001b[0mplot\u001b[0m\u001b[0;34m(\u001b[0m\u001b[0mhistory\u001b[0m\u001b[0;34m.\u001b[0m\u001b[0mhistory\u001b[0m\u001b[0;34m[\u001b[0m\u001b[0;34m'val_acc'\u001b[0m\u001b[0;34m]\u001b[0m\u001b[0;34m)\u001b[0m\u001b[0;34m\u001b[0m\u001b[0m\n\u001b[0m\u001b[1;32m      6\u001b[0m \u001b[0mplt\u001b[0m\u001b[0;34m.\u001b[0m\u001b[0mtitle\u001b[0m\u001b[0;34m(\u001b[0m\u001b[0;34m'model accuracy'\u001b[0m\u001b[0;34m)\u001b[0m\u001b[0;34m\u001b[0m\u001b[0m\n\u001b[1;32m      7\u001b[0m \u001b[0mplt\u001b[0m\u001b[0;34m.\u001b[0m\u001b[0mylabel\u001b[0m\u001b[0;34m(\u001b[0m\u001b[0;34m'accuracy'\u001b[0m\u001b[0;34m)\u001b[0m\u001b[0;34m\u001b[0m\u001b[0m\n",
      "\u001b[0;31mKeyError\u001b[0m: 'val_acc'"
     ]
    },
    {
     "data": {
      "image/png": "[encoded data removed]",
      "text/plain": [
       "<matplotlib.figure.Figure at 0x7f188d6135c0>"
      ]
     },
     "metadata": {},
     "output_type": "display_data"
    }
   ],
   "source": [
    "score = model.evaluate(x_train, y_train, verbose=0)\n",
    "print('Test loss:', score[0])\n",
    "print('Test accuracy:', score[1])\n",
    "plt.plot(history.history['acc'])\n",
    "plt.plot(history.history['val_acc'])\n",
    "plt.title('model accuracy')\n",
    "plt.ylabel('accuracy')\n",
    "plt.xlabel('epoch')\n",
    "plt.legend(['train', 'test'], loc='upper left')\n",
    "plt.show()"
   ]
  },
  {
   "cell_type": "code",
   "execution_count": 11,
   "metadata": {},
   "outputs": [
    {
     "ename": "KeyError",
     "evalue": "'val_loss'",
     "output_type": "error",
     "traceback": [
      "\u001b[0;31m---------------------------------------------------------------------------\u001b[0m",
      "\u001b[0;31mKeyError\u001b[0m                                  Traceback (most recent call last)",
      "\u001b[0;32m<ipython-input-11-a98b682bcfc6>\u001b[0m in \u001b[0;36m<module>\u001b[0;34m()\u001b[0m\n\u001b[1;32m      1\u001b[0m \u001b[0mplt\u001b[0m\u001b[0;34m.\u001b[0m\u001b[0mplot\u001b[0m\u001b[0;34m(\u001b[0m\u001b[0mhistory\u001b[0m\u001b[0;34m.\u001b[0m\u001b[0mhistory\u001b[0m\u001b[0;34m[\u001b[0m\u001b[0;34m'loss'\u001b[0m\u001b[0;34m]\u001b[0m\u001b[0;34m)\u001b[0m\u001b[0;34m\u001b[0m\u001b[0m\n\u001b[0;32m----> 2\u001b[0;31m \u001b[0mplt\u001b[0m\u001b[0;34m.\u001b[0m\u001b[0mplot\u001b[0m\u001b[0;34m(\u001b[0m\u001b[0mhistory\u001b[0m\u001b[0;34m.\u001b[0m\u001b[0mhistory\u001b[0m\u001b[0;34m[\u001b[0m\u001b[0;34m'val_loss'\u001b[0m\u001b[0;34m]\u001b[0m\u001b[0;34m)\u001b[0m\u001b[0;34m\u001b[0m\u001b[0m\n\u001b[0m\u001b[1;32m      3\u001b[0m \u001b[0mplt\u001b[0m\u001b[0;34m.\u001b[0m\u001b[0mtitle\u001b[0m\u001b[0;34m(\u001b[0m\u001b[0;34m'model loss'\u001b[0m\u001b[0;34m)\u001b[0m\u001b[0;34m\u001b[0m\u001b[0m\n\u001b[1;32m      4\u001b[0m \u001b[0mplt\u001b[0m\u001b[0;34m.\u001b[0m\u001b[0mylabel\u001b[0m\u001b[0;34m(\u001b[0m\u001b[0;34m'loss'\u001b[0m\u001b[0;34m)\u001b[0m\u001b[0;34m\u001b[0m\u001b[0m\n\u001b[1;32m      5\u001b[0m \u001b[0mplt\u001b[0m\u001b[0;34m.\u001b[0m\u001b[0mxlabel\u001b[0m\u001b[0;34m(\u001b[0m\u001b[0;34m'epoch'\u001b[0m\u001b[0;34m)\u001b[0m\u001b[0;34m\u001b[0m\u001b[0m\n",
      "\u001b[0;31mKeyError\u001b[0m: 'val_loss'"
     ]
    },
    {
     "data": {
      "image/png": "[encoded data removed]",
      "text/plain": [
       "<matplotlib.figure.Figure at 0x7f188b5bc390>"
      ]
     },
     "metadata": {},
     "output_type": "display_data"
    }
   ],
   "source": [
    "plt.plot(history.history['loss'])\n",
    "plt.plot(history.history['val_loss'])\n",
    "plt.title('model loss')\n",
    "plt.ylabel('loss')\n",
    "plt.xlabel('epoch')\n",
    "plt.legend(['train', 'test'], loc='upper left')\n",
    "plt.show()\n",
    "hist = history.history['val_loss']\n",
    "print(sum(hist)/len(hist))"
   ]
  },
  {
   "cell_type": "code",
   "execution_count": 15,
   "metadata": {},
   "outputs": [],
   "source": [
    "test = pd.read_json('./TestData/processed/test.json')"
   ]
  },
  {
   "cell_type": "code",
   "execution_count": 17,
   "metadata": {},
   "outputs": [],
   "source": [
    "bands = ['band_1','band_2']\n",
    "x_test = np.empty([8424,0])\n",
    "for band in bands:\n",
    "    x_temp = np.zeros((8424,5625))\n",
    "    for x in range(8424):\n",
    "        x_temp[x] += test[band][x]\n",
    "    x_test = np.concatenate((x_test,x_temp),axis=1)\n",
    "x_test = x_test.reshape(x_test.shape[0], img_x, img_y, channels)    "
   ]
  },
  {
   "cell_type": "code",
   "execution_count": 18,
   "metadata": {},
   "outputs": [],
   "source": [
    "predictions = model.predict(x_test)"
   ]
  },
  {
   "cell_type": "code",
   "execution_count": 19,
   "metadata": {},
   "outputs": [],
   "source": [
    "#Setting ids as PassengerId and predicting survival\n",
    "ids = test['id']\n",
    "\n",
    "df1 = pd.DataFrame(predictions)\n",
    "df2 = pd.DataFrame(ids)\n",
    "result = pd.concat([df1, df2], axis=1, join_axes=[df1.index])\n",
    "result.columns = ['is_iceberg', 'id']\n",
    "result=result.reindex(columns=['id','is_iceberg'])\n",
    "result.to_csv('12thSubmissionB.csv', index=False)"
   ]
  },
  {
   "cell_type": "code",
   "execution_count": null,
   "metadata": {},
   "outputs": [],
   "source": [
    "np.unique(predictions)"
   ]
  },
  {
   "cell_type": "code",
   "execution_count": null,
   "metadata": {},
   "outputs": [],
   "source": []
  }
 ],
 "metadata": {
  "kernelspec": {
   "display_name": "Python 3",
   "language": "python",
   "name": "python3"
  },
  "language_info": {
   "codemirror_mode": {
    "name": "ipython",
    "version": 3
   },
   "file_extension": ".py",
   "mimetype": "text/x-python",
   "name": "python",
   "nbconvert_exporter": "python",
   "pygments_lexer": "ipython3",
   "version": "3.5.2"
  }
 },
 "nbformat": 4,
 "nbformat_minor": 2
}
